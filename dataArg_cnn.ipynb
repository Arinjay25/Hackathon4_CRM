{
  "cells": [
    {
      "cell_type": "code",
      "source": [
        "# Load NeuroKit and other useful packages\r\n",
        "import neurokit2 as nk\r\n",
        "import numpy as np\r\n",
        "import matplotlib.pyplot as plt\r\n",
        "import pandas as pd"
      ],
      "outputs": [],
      "execution_count": 55,
      "metadata": {
        "gather": {
          "logged": 1653720410219
        }
      }
    },
    {
      "cell_type": "code",
      "source": [
        "df = pd.read_parquet('~/cloudfiles/code/users/arinjay.jain1/datasets/hackathon_dataset_decoded_mode.parquet')"
      ],
      "outputs": [],
      "execution_count": 35,
      "metadata": {
        "jupyter": {
          "source_hidden": false,
          "outputs_hidden": false
        },
        "nteract": {
          "transient": {
            "deleting": false
          }
        },
        "gather": {
          "logged": 1653679206071
        }
      }
    },
    {
      "cell_type": "code",
      "source": [
        "df.head(5)"
      ],
      "outputs": [
        {
          "output_type": "execute_result",
          "execution_count": 36,
          "data": {
            "text/plain": "                                   Episode  Label  \\\n0  DeviceOSEBCMPDZAZ7__EpisodeHFDMGC46COM2      0   \n1  Device/KDFTQ4HUMRD__EpisodeW5+1+HZDWVQE      1   \n2  DeviceDLFOL6DT/WOV__EpisodeUYPCWAWAZYGZ      0   \n3  DeviceQEMR3QU3IMXF__EpisodeXF8CO+KDN0TN      0   \n4  DeviceXLBY/IIVTCUE__EpisodeUOW1CTCRGD5M      0   \n\n                                      decoded_signal  \n0  [70.0, -56.0, -97.0, -109.0, -55.0, 29.0, 59.0...  \n1  [8.0, 9.0, 9.0, 7.0, 7.0, 6.0, 13.0, 14.0, 10....  \n2  [-4.0, -2.0, -1.0, 0.0, 1.0, 3.0, 3.0, 1.0, 0....  \n3  [6.0, 7.0, 8.0, 7.0, 5.0, 6.0, 6.0, 6.0, 6.0, ...  \n4  [-4.0, -4.0, -3.0, -4.0, -4.0, -4.0, -4.0, -3....  ",
            "text/html": "<div>\n<style scoped>\n    .dataframe tbody tr th:only-of-type {\n        vertical-align: middle;\n    }\n\n    .dataframe tbody tr th {\n        vertical-align: top;\n    }\n\n    .dataframe thead th {\n        text-align: right;\n    }\n</style>\n<table border=\"1\" class=\"dataframe\">\n  <thead>\n    <tr style=\"text-align: right;\">\n      <th></th>\n      <th>Episode</th>\n      <th>Label</th>\n      <th>decoded_signal</th>\n    </tr>\n  </thead>\n  <tbody>\n    <tr>\n      <th>0</th>\n      <td>DeviceOSEBCMPDZAZ7__EpisodeHFDMGC46COM2</td>\n      <td>0</td>\n      <td>[70.0, -56.0, -97.0, -109.0, -55.0, 29.0, 59.0...</td>\n    </tr>\n    <tr>\n      <th>1</th>\n      <td>Device/KDFTQ4HUMRD__EpisodeW5+1+HZDWVQE</td>\n      <td>1</td>\n      <td>[8.0, 9.0, 9.0, 7.0, 7.0, 6.0, 13.0, 14.0, 10....</td>\n    </tr>\n    <tr>\n      <th>2</th>\n      <td>DeviceDLFOL6DT/WOV__EpisodeUYPCWAWAZYGZ</td>\n      <td>0</td>\n      <td>[-4.0, -2.0, -1.0, 0.0, 1.0, 3.0, 3.0, 1.0, 0....</td>\n    </tr>\n    <tr>\n      <th>3</th>\n      <td>DeviceQEMR3QU3IMXF__EpisodeXF8CO+KDN0TN</td>\n      <td>0</td>\n      <td>[6.0, 7.0, 8.0, 7.0, 5.0, 6.0, 6.0, 6.0, 6.0, ...</td>\n    </tr>\n    <tr>\n      <th>4</th>\n      <td>DeviceXLBY/IIVTCUE__EpisodeUOW1CTCRGD5M</td>\n      <td>0</td>\n      <td>[-4.0, -4.0, -3.0, -4.0, -4.0, -4.0, -4.0, -3....</td>\n    </tr>\n  </tbody>\n</table>\n</div>"
          },
          "metadata": {}
        }
      ],
      "execution_count": 36,
      "metadata": {
        "jupyter": {
          "source_hidden": false,
          "outputs_hidden": false
        },
        "nteract": {
          "transient": {
            "deleting": false
          }
        },
        "gather": {
          "logged": 1653679206252
        }
      }
    },
    {
      "cell_type": "code",
      "source": [
        "from grpc import local_server_credentials\r\n",
        "import numpy as np\r\n",
        "import pandas as pd\r\n",
        "from scipy.fftpack import fft\r\n",
        "from numpy import trapz\r\n",
        "import base64\r\n",
        "import pickle\r\n",
        "import tempfile # Required import, do not remove\r\n",
        "# import onnxruntime as nxrun\r\n",
        "import neurokit2 as nk\r\n",
        "from sklearn.metrics import f1_score\r\n",
        "def align_fft(sigs_parsed,nbin=128):\r\n",
        "        N=4*60*128\r\n",
        "        s_new=[]\r\n",
        "\r\n",
        "        for s in (sigs_parsed):\r\n",
        "                if(len(s))>=N:\r\n",
        "                        s_new.append(list(s[:N]))\r\n",
        "                else:\r\n",
        "                        z=N-len(s)\r\n",
        "                        lst = [0] * z\r\n",
        "                        c=np.hstack([s,lst])\r\n",
        "                        s_new.append(c)      \r\n",
        "        sr =  1/128\r\n",
        "        T=N/sr\r\n",
        "        n=np.arange(N)\r\n",
        "        freq=n/T\r\n",
        "        \r\n",
        "        n_one_size=int(N/2)\r\n",
        "        f_oneside=freq[:n_one_size]\r\n",
        "\r\n",
        "        pe=int(N/nbin/2)\r\n",
        "       \r\n",
        "        for i, sig in enumerate(s_new):\r\n",
        "            \r\n",
        "            s_new[i]=np.abs(fft(sig)[:n_one_size])\r\n",
        "            s_new[i]= s_new[i].reshape(-1,pe).mean(1)        \r\n",
        "        #     xmax= max(s_new[i])\r\n",
        "        #     xmin= min(s_new[i])\r\n",
        "        #     s_new[i]=(s_new[i]-xmin)/(xmax-xmin)\r\n",
        "\r\n",
        "            \r\n",
        "\r\n",
        "        return s_new\r\n",
        "def classify(signal: np.ndarray) -> int:\r\n",
        "    assert type(signal) == np.ndarray, 'signal should be np.ndarray'\r\n",
        "    peaks, _ = nk.ecg_peaks(signal, sampling_rate=120)\r\n",
        "    hrv_time = nk.hrv_time(peaks, sampling_rate=120)\r\n",
        "    hrv_freq = nk.hrv_frequency(peaks, sampling_rate=120, normalize=True)\r\n",
        "    frame2=[hrv_time,hrv_freq]\r\n",
        "    df_o=pd.concat(frame2,axis=1)\r\n",
        "    t=nk.ecg_quality(signal, method=\"zhao2018\",sampling_rate=128)\r\n",
        "    if(t=='Unacceptable'):\r\n",
        "        df_o['quality'] = 0\r\n",
        "    else:\r\n",
        "        df_o['quality'] = 1\r\n",
        "    df_o.drop(columns=['HRV_SDANN2','HRV_SDNNI2','HRV_SDANN5','HRV_SDNNI5','HRV_ULF'],inplace=True)\r\n",
        "    df_o= df_o.fillna(0)\r\n",
        "    nk_feature=list(df_o.values[0])\r\n",
        "    local=[]\r\n",
        "    local.append(signal)\r\n",
        "#     local=parse_signal(local)\r\n",
        "    fft_feature=align_fft(local,nbin=256)    \r\n",
        "    c=np.hstack([fft_feature[0],nk_feature])\r\n",
        "    local=[]\r\n",
        "    local.append(c)\r\n",
        "    #res=model.predict(local)[0]\r\n",
        "    return local"
      ],
      "outputs": [],
      "execution_count": 43,
      "metadata": {
        "jupyter": {
          "source_hidden": false,
          "outputs_hidden": false
        },
        "nteract": {
          "transient": {
            "deleting": false
          }
        },
        "gather": {
          "logged": 1653680018183
        }
      }
    },
    {
      "cell_type": "code",
      "source": [
        "df['new_signal'] = df['decoded_signal'].apply(classify)"
      ],
      "outputs": [],
      "execution_count": 51,
      "metadata": {
        "jupyter": {
          "source_hidden": false,
          "outputs_hidden": false
        },
        "nteract": {
          "transient": {
            "deleting": false
          }
        },
        "gather": {
          "logged": 1653683794318
        }
      }
    },
    {
      "cell_type": "code",
      "source": [
        "df"
      ],
      "outputs": [
        {
          "output_type": "execute_result",
          "execution_count": 52,
          "data": {
            "text/plain": "                                       Episode  Label  \\\n0      DeviceOSEBCMPDZAZ7__EpisodeHFDMGC46COM2      0   \n1      Device/KDFTQ4HUMRD__EpisodeW5+1+HZDWVQE      1   \n2      DeviceDLFOL6DT/WOV__EpisodeUYPCWAWAZYGZ      0   \n3      DeviceQEMR3QU3IMXF__EpisodeXF8CO+KDN0TN      0   \n4      DeviceXLBY/IIVTCUE__EpisodeUOW1CTCRGD5M      0   \n...                                        ...    ...   \n27413  DeviceH09PHB8GSTGK__EpisodeRD60JRL5WKZB      1   \n27414  DeviceAMJQPZYJ3MZD__Episode4JTSSSQSUXS1      0   \n27415  DeviceYWKHBNNHO2WN__EpisodeNQQ4OG12I+QW      1   \n27416  Device7C0VTWXNEWBJ__EpisodeAY/S6NCLKPIK      0   \n27417  DeviceC3J0L9G6K81C__EpisodeIY/DRHOPV9YN      1   \n\n                                          decoded_signal  \\\n0      [70.0, -56.0, -97.0, -109.0, -55.0, 29.0, 59.0...   \n1      [8.0, 9.0, 9.0, 7.0, 7.0, 6.0, 13.0, 14.0, 10....   \n2      [-4.0, -2.0, -1.0, 0.0, 1.0, 3.0, 3.0, 1.0, 0....   \n3      [6.0, 7.0, 8.0, 7.0, 5.0, 6.0, 6.0, 6.0, 6.0, ...   \n4      [-4.0, -4.0, -3.0, -4.0, -4.0, -4.0, -4.0, -3....   \n...                                                  ...   \n27413  [7.0, 7.0, 6.0, 6.0, 7.0, 6.0, 6.0, 5.0, 5.0, ...   \n27414  [-1.0, -3.0, -5.0, -6.0, -6.0, -6.0, -6.0, -6....   \n27415  [-1.0, -2.0, -1.0, -1.0, 0.0, 1.0, 1.0, 5.0, 1...   \n27416  [-51.0, -77.0, -32.0, 15.0, 13.0, 2.0, 4.0, 8....   \n27417  [-3.0, -2.0, 0.0, 0.0, -1.0, -2.0, -3.0, -1.0,...   \n\n                                              new_signal  \n0      [[1869.8386173835156, 1216.6577899963092, 969....  \n1      [[2214.8873601300456, 3127.858671714706, 2490....  \n2      [[994.5445876290639, 1693.62505950252, 932.793...  \n3      [[1212.161953349213, 1623.170260800203, 1284.2...  \n4      [[848.4253403484178, 1717.0549162936684, 1705....  \n...                                                  ...  \n27413  [[1194.6971494984148, 1322.2063441084285, 2425...  \n27414  [[1795.9657216900355, 1493.5492756369958, 656....  \n27415  [[1676.744596072007, 2069.499395834926, 1860.1...  \n27416  [[1386.9612108494666, 949.9086032967457, 972.9...  \n27417  [[1422.5390735063747, 2143.977269626268, 4026....  \n\n[27418 rows x 4 columns]",
            "text/html": "<div>\n<style scoped>\n    .dataframe tbody tr th:only-of-type {\n        vertical-align: middle;\n    }\n\n    .dataframe tbody tr th {\n        vertical-align: top;\n    }\n\n    .dataframe thead th {\n        text-align: right;\n    }\n</style>\n<table border=\"1\" class=\"dataframe\">\n  <thead>\n    <tr style=\"text-align: right;\">\n      <th></th>\n      <th>Episode</th>\n      <th>Label</th>\n      <th>decoded_signal</th>\n      <th>new_signal</th>\n    </tr>\n  </thead>\n  <tbody>\n    <tr>\n      <th>0</th>\n      <td>DeviceOSEBCMPDZAZ7__EpisodeHFDMGC46COM2</td>\n      <td>0</td>\n      <td>[70.0, -56.0, -97.0, -109.0, -55.0, 29.0, 59.0...</td>\n      <td>[[1869.8386173835156, 1216.6577899963092, 969....</td>\n    </tr>\n    <tr>\n      <th>1</th>\n      <td>Device/KDFTQ4HUMRD__EpisodeW5+1+HZDWVQE</td>\n      <td>1</td>\n      <td>[8.0, 9.0, 9.0, 7.0, 7.0, 6.0, 13.0, 14.0, 10....</td>\n      <td>[[2214.8873601300456, 3127.858671714706, 2490....</td>\n    </tr>\n    <tr>\n      <th>2</th>\n      <td>DeviceDLFOL6DT/WOV__EpisodeUYPCWAWAZYGZ</td>\n      <td>0</td>\n      <td>[-4.0, -2.0, -1.0, 0.0, 1.0, 3.0, 3.0, 1.0, 0....</td>\n      <td>[[994.5445876290639, 1693.62505950252, 932.793...</td>\n    </tr>\n    <tr>\n      <th>3</th>\n      <td>DeviceQEMR3QU3IMXF__EpisodeXF8CO+KDN0TN</td>\n      <td>0</td>\n      <td>[6.0, 7.0, 8.0, 7.0, 5.0, 6.0, 6.0, 6.0, 6.0, ...</td>\n      <td>[[1212.161953349213, 1623.170260800203, 1284.2...</td>\n    </tr>\n    <tr>\n      <th>4</th>\n      <td>DeviceXLBY/IIVTCUE__EpisodeUOW1CTCRGD5M</td>\n      <td>0</td>\n      <td>[-4.0, -4.0, -3.0, -4.0, -4.0, -4.0, -4.0, -3....</td>\n      <td>[[848.4253403484178, 1717.0549162936684, 1705....</td>\n    </tr>\n    <tr>\n      <th>...</th>\n      <td>...</td>\n      <td>...</td>\n      <td>...</td>\n      <td>...</td>\n    </tr>\n    <tr>\n      <th>27413</th>\n      <td>DeviceH09PHB8GSTGK__EpisodeRD60JRL5WKZB</td>\n      <td>1</td>\n      <td>[7.0, 7.0, 6.0, 6.0, 7.0, 6.0, 6.0, 5.0, 5.0, ...</td>\n      <td>[[1194.6971494984148, 1322.2063441084285, 2425...</td>\n    </tr>\n    <tr>\n      <th>27414</th>\n      <td>DeviceAMJQPZYJ3MZD__Episode4JTSSSQSUXS1</td>\n      <td>0</td>\n      <td>[-1.0, -3.0, -5.0, -6.0, -6.0, -6.0, -6.0, -6....</td>\n      <td>[[1795.9657216900355, 1493.5492756369958, 656....</td>\n    </tr>\n    <tr>\n      <th>27415</th>\n      <td>DeviceYWKHBNNHO2WN__EpisodeNQQ4OG12I+QW</td>\n      <td>1</td>\n      <td>[-1.0, -2.0, -1.0, -1.0, 0.0, 1.0, 1.0, 5.0, 1...</td>\n      <td>[[1676.744596072007, 2069.499395834926, 1860.1...</td>\n    </tr>\n    <tr>\n      <th>27416</th>\n      <td>Device7C0VTWXNEWBJ__EpisodeAY/S6NCLKPIK</td>\n      <td>0</td>\n      <td>[-51.0, -77.0, -32.0, 15.0, 13.0, 2.0, 4.0, 8....</td>\n      <td>[[1386.9612108494666, 949.9086032967457, 972.9...</td>\n    </tr>\n    <tr>\n      <th>27417</th>\n      <td>DeviceC3J0L9G6K81C__EpisodeIY/DRHOPV9YN</td>\n      <td>1</td>\n      <td>[-3.0, -2.0, 0.0, 0.0, -1.0, -2.0, -3.0, -1.0,...</td>\n      <td>[[1422.5390735063747, 2143.977269626268, 4026....</td>\n    </tr>\n  </tbody>\n</table>\n<p>27418 rows × 4 columns</p>\n</div>"
          },
          "metadata": {}
        }
      ],
      "execution_count": 52,
      "metadata": {
        "jupyter": {
          "source_hidden": false,
          "outputs_hidden": false
        },
        "nteract": {
          "transient": {
            "deleting": false
          }
        },
        "gather": {
          "logged": 1653683794834
        }
      }
    },
    {
      "cell_type": "code",
      "source": [
        "df[['new_signal', 'Label']].to_parquet('~/cloudfiles/code/users/arinjay.jain1/datasets/hackathon_dataset_new_signal.parquet')"
      ],
      "outputs": [],
      "execution_count": 53,
      "metadata": {
        "jupyter": {
          "source_hidden": false,
          "outputs_hidden": false
        },
        "nteract": {
          "transient": {
            "deleting": false
          }
        },
        "gather": {
          "logged": 1653683795746
        }
      }
    },
    {
      "cell_type": "code",
      "source": [
        "df = pd.read_parquet('~/cloudfiles/code/users/arinjay.jain1/datasets/hackathon_dataset_new_signal.parquet')"
      ],
      "outputs": [],
      "execution_count": 22,
      "metadata": {
        "jupyter": {
          "source_hidden": false,
          "outputs_hidden": false
        },
        "nteract": {
          "transient": {
            "deleting": false
          }
        },
        "gather": {
          "logged": 1653721026255
        }
      }
    },
    {
      "cell_type": "code",
      "source": [
        "#df['new_signal']\r\n",
        "\r\n",
        "for i in range(len(df)):\r\n",
        "    df['new_signal'][i] = df['new_signal'][i][0]\r\n",
        "\r\n",
        "print(df)"
      ],
      "outputs": [
        {
          "output_type": "stream",
          "name": "stdout",
          "text": "                                              new_signal  Label\n0      [1869.8386173835156, 1216.6577899963092, 969.5...      0\n1      [2214.8873601300456, 3127.858671714706, 2490.1...      1\n2      [994.5445876290639, 1693.62505950252, 932.7939...      0\n3      [1212.161953349213, 1623.170260800203, 1284.28...      0\n4      [848.4253403484178, 1717.0549162936684, 1705.8...      0\n...                                                  ...    ...\n27413  [1194.6971494984148, 1322.2063441084285, 2425....      1\n27414  [1795.9657216900355, 1493.5492756369958, 656.6...      0\n27415  [1676.744596072007, 2069.499395834926, 1860.13...      1\n27416  [1386.9612108494666, 949.9086032967457, 972.93...      0\n27417  [1422.5390735063747, 2143.977269626268, 4026.1...      1\n\n[27418 rows x 2 columns]\n"
        }
      ],
      "execution_count": 23,
      "metadata": {
        "jupyter": {
          "source_hidden": false,
          "outputs_hidden": false
        },
        "nteract": {
          "transient": {
            "deleting": false
          }
        },
        "gather": {
          "logged": 1653721033320
        }
      }
    },
    {
      "cell_type": "code",
      "source": [
        "df['Label'].value_counts()"
      ],
      "outputs": [
        {
          "output_type": "execute_result",
          "execution_count": 38,
          "data": {
            "text/plain": "0    18388\n1     9030\nName: Label, dtype: int64"
          },
          "metadata": {}
        }
      ],
      "execution_count": 38,
      "metadata": {
        "jupyter": {
          "source_hidden": false,
          "outputs_hidden": false
        },
        "nteract": {
          "transient": {
            "deleting": false
          }
        },
        "gather": {
          "logged": 1653721934415
        }
      }
    },
    {
      "cell_type": "code",
      "source": [
        "df_lable_1 = df[df['Label'] == 1]\r\n",
        "df= df.append([df_lable_1]*1,ignore_index=True)"
      ],
      "outputs": [],
      "execution_count": 39,
      "metadata": {
        "jupyter": {
          "source_hidden": false,
          "outputs_hidden": false
        },
        "nteract": {
          "transient": {
            "deleting": false
          }
        },
        "gather": {
          "logged": 1653722027813
        }
      }
    },
    {
      "cell_type": "code",
      "source": [
        "df['Label'].value_counts()"
      ],
      "outputs": [
        {
          "output_type": "execute_result",
          "execution_count": 40,
          "data": {
            "text/plain": "0    18388\n1    18060\nName: Label, dtype: int64"
          },
          "metadata": {}
        }
      ],
      "execution_count": 40,
      "metadata": {
        "jupyter": {
          "source_hidden": false,
          "outputs_hidden": false
        },
        "nteract": {
          "transient": {
            "deleting": false
          }
        },
        "gather": {
          "logged": 1653722035636
        }
      }
    },
    {
      "cell_type": "code",
      "source": [
        "#CNN\r\n",
        "from tensorflow.keras.layers import Flatten, Dense, Conv1D, MaxPool1D, Dropout, BatchNormalization\r\n",
        "\r\n",
        "#splitting dataset to dependent and independent variable\r\n",
        "X = df['new_signal'].values #independent values / features\r\n",
        "y = df['Label'].values #dependent values / target\r\n",
        "\r\n",
        "#splitting the datasets for training and testing process\r\n",
        "from sklearn.model_selection import train_test_split\r\n",
        "X_train, X_test, y_train, y_test = train_test_split(X, y, test_size =0.3, random_state=42)\r\n",
        "\r\n",
        "X_train = np.vstack(X_train).astype(np.float)\r\n",
        "y_train = np.vstack(y_train).astype(np.int)\r\n",
        "X_test = np.vstack(X_test).astype(np.float)\r\n",
        "y_test = np.vstack(y_test).astype(np.int)\r\n",
        "\r\n",
        "\r\n",
        "#size for the sets\r\n",
        "print('size of X_train:', X_train.shape)\r\n",
        "print('size of X_test:', X_test.shape)\r\n",
        "print('size of y_train:', y_train.shape)\r\n",
        "print('size of y_test:', y_test.shape)\r\n",
        "\r\n",
        "\r\n",
        "\r\n",
        "#Reshape train and test data to (n_samples, 19184, 1), where each sample is of size (19184, 1)\r\n",
        "X_train = np.array(X_train).reshape(X_train.shape[0],X_train.shape[1], 1)\r\n",
        "X_test = np.array(X_test).reshape(X_test.shape[0], X_test.shape[1], 1)\r\n",
        "\r\n",
        "print(\"X Train shape: \", X_train.shape)\r\n",
        "print(\"X Test shape: \", X_test.shape)"
      ],
      "outputs": [
        {
          "output_type": "stream",
          "name": "stdout",
          "text": "size of X_train: (25513, 285)\nsize of X_test: (10935, 285)\nsize of y_train: (25513, 1)\nsize of y_test: (10935, 1)\nX Train shape:  (25513, 285, 1)\nX Test shape:  (10935, 285, 1)\n"
        }
      ],
      "execution_count": 50,
      "metadata": {
        "jupyter": {
          "source_hidden": false,
          "outputs_hidden": false
        },
        "nteract": {
          "transient": {
            "deleting": false
          }
        },
        "gather": {
          "logged": 1653722681399
        }
      }
    },
    {
      "cell_type": "code",
      "source": [
        "# Create sequential model \r\n",
        "import tensorflow as tf\r\n",
        "from tensorflow.keras.callbacks import ReduceLROnPlateau\r\n",
        "from tensorflow.keras.optimizers import Adam\r\n",
        "from tensorflow.keras.metrics import categorical_crossentropy\r\n",
        "\r\n",
        "model = tf.keras.models.Sequential()\r\n",
        "\r\n",
        "model.add(Conv1D(filters=32, kernel_size=(3,), strides=3, activation='relu', padding='same', input_shape=(285, 1)))\r\n",
        "model.add(BatchNormalization())\r\n",
        "\r\n",
        "#model.add(MaxPooling2D(pool_size=(2,2)))\r\n",
        "model.add(Conv1D(64, kernel_size=(3,), strides=2, activation='relu', padding='same'))\r\n",
        "model.add(BatchNormalization())\r\n",
        "\r\n",
        "model.add(Conv1D(128, kernel_size=(3,), strides=2, activation='relu', padding='same'))\r\n",
        "model.add(Dropout(0.5))\r\n",
        "\r\n",
        "\r\n",
        "model.add(Conv1D(256, kernel_size=(3,), strides=2, activation='relu', padding='same'))\r\n",
        "model.add(BatchNormalization())\r\n",
        "model.add(Conv1D(512, kernel_size=(3,), strides=2, activation='relu', padding='same'))\r\n",
        "model.add(BatchNormalization())\r\n",
        "\r\n",
        "model.add(Conv1D(256, kernel_size=(3,), strides=2, activation='relu', padding='same'))\r\n",
        "model.add(BatchNormalization())\r\n",
        "\r\n",
        "#model.add(Dropout(0.5))\r\n",
        "#model.add(BatchNormalization())\r\n",
        "#model.add(MaxPooling2D(pool_size=(2,2)))\r\n",
        "\r\n",
        "model.add(Conv1D(filters=128, kernel_size=(3,), strides=2, activation='relu', padding='same'))\r\n",
        "model.add(Dropout(0.5))\r\n",
        "model.add(BatchNormalization())\r\n",
        "\r\n",
        "#model.add(Conv1D(filters=64, kernel_size=(3,), strides=2, activation='relu', padding='same'))\r\n",
        "#model.add(Dropout(0.5))\r\n",
        "#model.add(BatchNormalization())\r\n",
        "\r\n",
        "#model.add(Conv1D(filters=32, kernel_size=(3,), strides=2, activation='relu', padding='same'))\r\n",
        "#model.add(Dropout(0.5))\r\n",
        "#model.add(BatchNormalization())\r\n",
        "\r\n",
        "model.add(Flatten())\r\n",
        "model.add(Dense(256, activation='relu'))\r\n",
        "model.add(Dense(512, activation='relu'))\r\n",
        "model.add(Dense(256, activation='relu'))\r\n",
        "model.add(Dense(1, activation='sigmoid'))\r\n",
        "print(model.summary())\r\n",
        "\r\n",
        "opt = Adam(lr=0.001)#Adam(lr=0.001)\r\n",
        "model.compile(optimizer=opt, loss=categorical_crossentropy, metrics=['accuracy'])\r\n",
        "\r\n",
        "reduce_lr = ReduceLROnPlateau(monitor='val_accuracy', factor=0.75, patience=5, min_lr=0.000001)\r\n"
      ],
      "outputs": [
        {
          "output_type": "stream",
          "name": "stdout",
          "text": "Model: \"sequential_11\"\n_________________________________________________________________\nLayer (type)                 Output Shape              Param #   \n=================================================================\nconv1d_56 (Conv1D)           (None, 95, 32)            128       \n_________________________________________________________________\nbatch_normalization_19 (Batc (None, 95, 32)            128       \n_________________________________________________________________\nconv1d_57 (Conv1D)           (None, 48, 64)            6208      \n_________________________________________________________________\nbatch_normalization_20 (Batc (None, 48, 64)            256       \n_________________________________________________________________\nconv1d_58 (Conv1D)           (None, 24, 128)           24704     \n_________________________________________________________________\ndropout_21 (Dropout)         (None, 24, 128)           0         \n_________________________________________________________________\nconv1d_59 (Conv1D)           (None, 12, 256)           98560     \n_________________________________________________________________\nbatch_normalization_21 (Batc (None, 12, 256)           1024      \n_________________________________________________________________\nconv1d_60 (Conv1D)           (None, 6, 512)            393728    \n_________________________________________________________________\nbatch_normalization_22 (Batc (None, 6, 512)            2048      \n_________________________________________________________________\nconv1d_61 (Conv1D)           (None, 3, 256)            393472    \n_________________________________________________________________\nbatch_normalization_23 (Batc (None, 3, 256)            1024      \n_________________________________________________________________\nconv1d_62 (Conv1D)           (None, 2, 128)            98432     \n_________________________________________________________________\ndropout_22 (Dropout)         (None, 2, 128)            0         \n_________________________________________________________________\nbatch_normalization_24 (Batc (None, 2, 128)            512       \n_________________________________________________________________\nflatten_11 (Flatten)         (None, 256)               0         \n_________________________________________________________________\ndense_33 (Dense)             (None, 256)               65792     \n_________________________________________________________________\ndense_34 (Dense)             (None, 512)               131584    \n_________________________________________________________________\ndense_35 (Dense)             (None, 256)               131328    \n_________________________________________________________________\ndense_36 (Dense)             (None, 1)                 257       \n=================================================================\nTotal params: 1,349,185\nTrainable params: 1,346,689\nNon-trainable params: 2,496\n_________________________________________________________________\nNone\n"
        }
      ],
      "execution_count": 52,
      "metadata": {
        "jupyter": {
          "source_hidden": false,
          "outputs_hidden": false
        },
        "nteract": {
          "transient": {
            "deleting": false
          }
        },
        "gather": {
          "logged": 1653722986602
        }
      }
    },
    {
      "cell_type": "code",
      "source": [
        "model_history = model.fit(X_train, y_train,  epochs=100, batch_size=15, validation_data = (X_test, y_test), callbacks=[reduce_lr])\r\n",
        "#model_history = model.fit(X_train, y_train,  epochs=20, batch_size=20, validation_data = (X_test, y_test))"
      ],
      "outputs": [
        {
          "output_type": "stream",
          "name": "stdout",
          "text": "Epoch 1/100\n1701/1701 [==============================] - 19s 11ms/step - loss: 5.8939e-08 - accuracy: 0.4975 - val_loss: 5.9370e-08 - val_accuracy: 0.4979 - lr: 0.0010\b\b\b\b\b\b\b\b\b\b\b\b\b\b\b\b\b\b\b\b\b\b\b\b\b\b\b\nEpoch 2/100\n1701/1701 [==============================] - 18s 11ms/step - loss: 5.8939e-08 - accuracy: 0.5014 - val_loss: 5.9370e-08 - val_accuracy: 0.4984 - lr: 0.0010\b\b\b\b\b\b\b\b\b\b\b\b\b\b\b\b\b\b\b\b\b\b\b\b\b\b\b\nEpoch 3/100\n1701/1701 [==============================] - 19s 11ms/step - loss: 5.8939e-08 - accuracy: 0.4989 - val_loss: 5.9370e-08 - val_accuracy: 0.5012 - lr: 0.0010\b\b\b\b\b\b\b\b\b\b\b\b\b\b\b\b\b\b\b\b\b\b\b\b\b\b\b\nEpoch 4/100\n1701/1701 [==============================] - 19s 11ms/step - loss: 5.8939e-08 - accuracy: 0.5010 - val_loss: 5.9370e-08 - val_accuracy: 0.5036 - lr: 0.0010\b\b\b\b\b\b\b\b\b\b\b\b\b\b\b\b\b\b\b\b\b\b\b\b\b\b\b\nEpoch 5/100\n1701/1701 [==============================] - 19s 11ms/step - loss: 5.8939e-08 - accuracy: 0.4992 - val_loss: 5.9370e-08 - val_accuracy: 0.5007 - lr: 0.0010\b\b\b\b\b\b\b\b\b\b\b\b\b\b\b\b\b\b\b\b\b\b\b\b\b\b\b\nEpoch 6/100\n1701/1701 [==============================] - 19s 11ms/step - loss: 5.8939e-08 - accuracy: 0.4973 - val_loss: 5.9370e-08 - val_accuracy: 0.5004 - lr: 0.0010\b\b\b\b\b\b\b\b\b\b\b\b\b\b\b\b\b\b\b\b\b\b\b\b\b\b\b\nEpoch 7/100\n1701/1701 [==============================] - 19s 11ms/step - loss: 5.8939e-08 - accuracy: 0.5047 - val_loss: 5.9370e-08 - val_accuracy: 0.5021 - lr: 0.0010\b\b\b\b\b\b\b\b\b\b\b\b\b\b\b\b\b\b\b\b\b\b\b\b\b\b\b\nEpoch 8/100\n1701/1701 [==============================] - 19s 11ms/step - loss: 5.8939e-08 - accuracy: 0.5005 - val_loss: 5.9370e-08 - val_accuracy: 0.4990 - lr: 0.0010\b\b\b\b\b\b\b\b\b\b\b\b\b\b\b\b\b\b\b\b\b\b\b\b\b\b\b\nEpoch 9/100\n1701/1701 [==============================] - 19s 11ms/step - loss: 5.8939e-08 - accuracy: 0.5002 - val_loss: 5.9370e-08 - val_accuracy: 0.5006 - lr: 0.0010\b\b\b\b\b\b\b\b\b\b\b\b\b\b\b\b\b\b\b\b\b\b\b\b\b\b\b\nEpoch 10/100\n1701/1701 [==============================] - 19s 11ms/step - loss: 5.8939e-08 - accuracy: 0.5028 - val_loss: 5.9370e-08 - val_accuracy: 0.5002 - lr: 7.5000e-04\b\b\b\b\b\b\b\b\b\b\b\b\b\b\b\b\b\b\b\b\b\b\b\nEpoch 11/100\n1701/1701 [==============================] - 19s 11ms/step - loss: 5.8939e-08 - accuracy: 0.5008 - val_loss: 5.9370e-08 - val_accuracy: 0.4989 - lr: 7.5000e-04\b\b\b\b\b\b\b\b\b\b\b\b\b\b\b\b\b\b\b\b\b\b\b\nEpoch 12/100\n1701/1701 [==============================] - 19s 11ms/step - loss: 5.8939e-08 - accuracy: 0.5015 - val_loss: 5.9370e-08 - val_accuracy: 0.5026 - lr: 7.5000e-04\b\b\b\b\b\b\b\b\b\b\b\b\b\b\b\b\b\b\b\b\b\b\b\nEpoch 13/100\n1701/1701 [==============================] - 19s 11ms/step - loss: 5.8939e-08 - accuracy: 0.5019 - val_loss: 5.9370e-08 - val_accuracy: 0.4986 - lr: 7.5000e-04\b\b\b\b\b\b\b\b\b\b\b\b\b\b\b\b\b\b\b\b\b\b\b\nEpoch 14/100\n1701/1701 [==============================] - 19s 11ms/step - loss: 5.8939e-08 - accuracy: 0.4997 - val_loss: 5.9370e-08 - val_accuracy: 0.5000 - lr: 7.5000e-04\b\b\b\b\b\b\b\b\b\b\b\b\b\b\b\b\b\b\b\b\b\b\b\nEpoch 15/100\n1701/1701 [==============================] - 19s 11ms/step - loss: 5.8939e-08 - accuracy: 0.5019 - val_loss: 5.9370e-08 - val_accuracy: 0.4987 - lr: 5.6250e-04\b\b\b\b\b\b\b\b\b\b\b\b\b\b\b\b\b\b\b\b\b\b\b\nEpoch 16/100\n1701/1701 [==============================] - 19s 11ms/step - loss: 5.8939e-08 - accuracy: 0.5008 - val_loss: 5.9370e-08 - val_accuracy: 0.5016 - lr: 5.6250e-04\b\b\b\b\b\b\b\b\b\b\b\b\b\b\b\b\b\b\b\b\b\b\b\nEpoch 17/100\n1701/1701 [==============================] - 19s 11ms/step - loss: 5.8939e-08 - accuracy: 0.5010 - val_loss: 5.9370e-08 - val_accuracy: 0.4999 - lr: 5.6250e-04\b\b\b\b\b\b\b\b\b\b\b\b\b\b\b\b\b\b\b\b\b\b\b\nEpoch 18/100\n1701/1701 [==============================] - 18s 11ms/step - loss: 5.8939e-08 - accuracy: 0.5006 - val_loss: 5.9370e-08 - val_accuracy: 0.5019 - lr: 5.6250e-04\b\b\b\b\b\b\b\b\b\b\b\b\b\b\b\b\b\b\b\b\b\b\b\nEpoch 19/100\n1701/1701 [==============================] - 19s 11ms/step - loss: 5.8939e-08 - accuracy: 0.4976 - val_loss: 5.9370e-08 - val_accuracy: 0.4986 - lr: 5.6250e-04\b\b\b\b\b\b\b\b\b\b\b\b\b\b\b\b\b\b\b\b\b\b\b\nEpoch 20/100\n1701/1701 [==============================] - 19s 11ms/step - loss: 5.8939e-08 - accuracy: 0.5024 - val_loss: 5.9370e-08 - val_accuracy: 0.5035 - lr: 4.2187e-04\b\b\b\b\b\b\b\b\b\b\b\b\b\b\b\b\b\b\b\b\b\b\b\nEpoch 21/100\n 662/1701 [==========>...................] - ETA: 10s - loss: 5.9112e-08 - accuracy: 0.4969\b\b\b\b\b\b\b\b\b\b\b\b\b\b\b\b\b\b\b\b\b\b\b\b\b\b\b\b\b\b\b\b\b\b\b\b\b\b\b\b\b\b\b\b\b\b\b\b\b\b\b\b\b\b\b\b\b\b\b\b\b\b\b\b\b\b\b\b\b\b\b\b\b\b\b\b\b\b\b\b\b\b\b\b\b\b\b\b\b\b\b\r 667/1701 [==========>...................] - ETA: 9s - loss: 5.9170e-08 - accuracy: 0.4977 \b\b\b\b\b\b\b\b\b\b\b\b\b\b\b\b\b\b\b\b\b\b\b\b\b\b\b\b\b\b\b\b\b\b\b\b\b\b\b\b\b\b\b\b\b\b\b\b\b\b\b\b\b\b\b\b\b\b\b\b\b\b\b\b\b\b\b\b\b\b\b\b\b\b\b\b\b\b\b\b\b\b\b\b\b\b\b\b\b\b\r1504/1701 [=========================>....] - ETA: 1s - loss: 5.9023e-08 - accuracy: 0.4993\b\b\b\b\b\b\b\b\b\b\b\b\b\b\b\b\b\b\b\b\b\b\b\b\b\b\b\b\b\b\b\b\b\b\b\b\b\b\b\b\b\b\b\b\b\b\b\b\b\b\b\b\b\b\b\b\b\b\b\b\b\b\b\b\b\b\b\b\b\b\b\b\b\b\b\b\b\b\b\b\b\b\b\b\b\b\b\b\b\b\r1510/1701 [=========================>....] - ETA: 1s - loss: 5.8994e-08 - accuracy: 0.4991"
        }
      ],
      "execution_count": 53,
      "metadata": {
        "jupyter": {
          "source_hidden": false,
          "outputs_hidden": false
        },
        "nteract": {
          "transient": {
            "deleting": false
          }
        },
        "gather": {
          "logged": 1653722583876
        }
      }
    },
    {
      "cell_type": "code",
      "source": [
        "model.save('model_cnn_285')"
      ],
      "outputs": [],
      "execution_count": null,
      "metadata": {
        "jupyter": {
          "source_hidden": false,
          "outputs_hidden": false
        },
        "nteract": {
          "transient": {
            "deleting": false
          }
        }
      }
    },
    {
      "cell_type": "code",
      "source": [
        "def get_signal_dwt(signal):\r\n",
        "    #pqrst\r\n",
        "    ecg_signal = signal\r\n",
        "    # Extract R-peaks locations\r\n",
        "    _, rpeaks = nk.ecg_peaks(ecg_signal, sampling_rate=128)\r\n",
        "    \r\n",
        "    # Delineate the ECG signal and visualizing all peaks of ECG complexes\r\n",
        "    signal_dwt, waves_dwt = nk.ecg_delineate(ecg_signal, \r\n",
        "                                         rpeaks, \r\n",
        "                                         sampling_rate=128, \r\n",
        "                                         method=\"dwt\", \r\n",
        "                                         show=False, \r\n",
        "                                         show_type='all')\r\n",
        "    # print(type(signal_dwt))\r\n",
        "    print(signal_dwt)\r\n",
        "    # print(signal_dwt['ECG_P_Onsets'].std())\r\n",
        "    signal_dwt_std = pd.DataFrame(signal_dwt['ECG_P_Onsets'].std())\r\n",
        "    signal_dwt_std.append(signal_dwt['ECG_P_Offsets'].std())\r\n",
        "    signal_dwt_std.append(signal_dwt['ECG_R_Onsets'].std())\r\n",
        "    signal_dwt_std.append(signal_dwt['ECG_R_Offsets'].std())\r\n",
        "    \r\n",
        "\r\n",
        "    # Automatically process the (raw) ECG signal\r\n",
        "    return signal_dwt_std"
      ],
      "outputs": [],
      "execution_count": 5,
      "metadata": {
        "jupyter": {
          "source_hidden": false,
          "outputs_hidden": false
        },
        "nteract": {
          "transient": {
            "deleting": false
          }
        },
        "gather": {
          "logged": 1653331281057
        }
      }
    },
    {
      "cell_type": "code",
      "source": [
        "sigs_dwt = pd.DataFrame()\r\n",
        "N = df.shape[0]\r\n",
        "i = 0\r\n",
        "print(N)\r\n",
        "for sig in df['decoded_signal']:\r\n",
        "    sig_parsed = get_signal_dwt(sig)\r\n",
        "    sigs_dwt.append(sig_parsed)\r\n",
        "    i = i + 1\r\n",
        "    if i % 1000 == 0:\r\n",
        "        print(round(100*(i + 1) / N, 2), ' percent complete.')\r\n",
        "    if i == 5:\r\n",
        "        break\r\n",
        "\r\n",
        "sigs_dwt"
      ],
      "outputs": [
        {
          "output_type": "stream",
          "name": "stdout",
          "text": "27418\n       ECG_P_Peaks  ECG_P_Onsets  ECG_P_Offsets  ECG_Q_Peaks  ECG_R_Onsets  \\\n0                0             0              0            0             0   \n1                0             0              0            0             0   \n2                0             0              0            0             0   \n3                0             0              0            0             0   \n4                0             0              0            0             0   \n...            ...           ...            ...          ...           ...   \n19179            0             0              0            0             0   \n19180            0             0              0            0             0   \n19181            0             0              0            0             0   \n19182            0             0              0            0             0   \n19183            0             0              0            0             0   \n\n       ECG_R_Offsets  ECG_S_Peaks  ECG_T_Peaks  ECG_T_Onsets  ECG_T_Offsets  \n0                  0            0            0             0              0  \n1                  0            0            0             0              0  \n2                  0            0            0             0              0  \n3                  0            0            0             0              0  \n4                  0            0            0             0              0  \n...              ...          ...          ...           ...            ...  \n19179              0            0            0             0              0  \n19180              0            0            0             0              0  \n19181              0            0            0             0              0  \n19182              0            0            0             0              0  \n19183              0            0            0             0              0  \n\n[19184 rows x 10 columns]\n"
        },
        {
          "output_type": "error",
          "ename": "ValueError",
          "evalue": "DataFrame constructor not properly called!",
          "traceback": [
            "\u001b[0;31m---------------------------------------------------------------------------\u001b[0m",
            "\u001b[0;31mValueError\u001b[0m                                Traceback (most recent call last)",
            "\u001b[0;32m<ipython-input-7-1444388ed074>\u001b[0m in \u001b[0;36m<module>\u001b[0;34m\u001b[0m\n\u001b[1;32m      4\u001b[0m \u001b[0mprint\u001b[0m\u001b[0;34m(\u001b[0m\u001b[0mN\u001b[0m\u001b[0;34m)\u001b[0m\u001b[0;34m\u001b[0m\u001b[0;34m\u001b[0m\u001b[0m\n\u001b[1;32m      5\u001b[0m \u001b[0;32mfor\u001b[0m \u001b[0msig\u001b[0m \u001b[0;32min\u001b[0m \u001b[0mdf\u001b[0m\u001b[0;34m[\u001b[0m\u001b[0;34m'decoded_signal'\u001b[0m\u001b[0;34m]\u001b[0m\u001b[0;34m:\u001b[0m\u001b[0;34m\u001b[0m\u001b[0;34m\u001b[0m\u001b[0m\n\u001b[0;32m----> 6\u001b[0;31m     \u001b[0msig_parsed\u001b[0m \u001b[0;34m=\u001b[0m \u001b[0mget_signal_dwt\u001b[0m\u001b[0;34m(\u001b[0m\u001b[0msig\u001b[0m\u001b[0;34m)\u001b[0m\u001b[0;34m\u001b[0m\u001b[0;34m\u001b[0m\u001b[0m\n\u001b[0m\u001b[1;32m      7\u001b[0m     \u001b[0msigs_dwt\u001b[0m\u001b[0;34m.\u001b[0m\u001b[0mappend\u001b[0m\u001b[0;34m(\u001b[0m\u001b[0msig_parsed\u001b[0m\u001b[0;34m)\u001b[0m\u001b[0;34m\u001b[0m\u001b[0;34m\u001b[0m\u001b[0m\n\u001b[1;32m      8\u001b[0m     \u001b[0mi\u001b[0m \u001b[0;34m=\u001b[0m \u001b[0mi\u001b[0m \u001b[0;34m+\u001b[0m \u001b[0;36m1\u001b[0m\u001b[0;34m\u001b[0m\u001b[0;34m\u001b[0m\u001b[0m\n",
            "\u001b[0;32m<ipython-input-5-be5de07c87c6>\u001b[0m in \u001b[0;36mget_signal_dwt\u001b[0;34m(signal)\u001b[0m\n\u001b[1;32m     15\u001b[0m     \u001b[0mprint\u001b[0m\u001b[0;34m(\u001b[0m\u001b[0msignal_dwt\u001b[0m\u001b[0;34m)\u001b[0m\u001b[0;34m\u001b[0m\u001b[0;34m\u001b[0m\u001b[0m\n\u001b[1;32m     16\u001b[0m     \u001b[0;31m# print(signal_dwt['ECG_P_Onsets'].std())\u001b[0m\u001b[0;34m\u001b[0m\u001b[0;34m\u001b[0m\u001b[0;34m\u001b[0m\u001b[0m\n\u001b[0;32m---> 17\u001b[0;31m     \u001b[0msignal_dwt_std\u001b[0m \u001b[0;34m=\u001b[0m \u001b[0mpd\u001b[0m\u001b[0;34m.\u001b[0m\u001b[0mDataFrame\u001b[0m\u001b[0;34m(\u001b[0m\u001b[0msignal_dwt\u001b[0m\u001b[0;34m[\u001b[0m\u001b[0;34m'ECG_P_Onsets'\u001b[0m\u001b[0;34m]\u001b[0m\u001b[0;34m.\u001b[0m\u001b[0mstd\u001b[0m\u001b[0;34m(\u001b[0m\u001b[0;34m)\u001b[0m\u001b[0;34m)\u001b[0m\u001b[0;34m\u001b[0m\u001b[0;34m\u001b[0m\u001b[0m\n\u001b[0m\u001b[1;32m     18\u001b[0m     \u001b[0msignal_dwt_std\u001b[0m\u001b[0;34m.\u001b[0m\u001b[0mappend\u001b[0m\u001b[0;34m(\u001b[0m\u001b[0msignal_dwt\u001b[0m\u001b[0;34m[\u001b[0m\u001b[0;34m'ECG_P_Offsets'\u001b[0m\u001b[0;34m]\u001b[0m\u001b[0;34m.\u001b[0m\u001b[0mstd\u001b[0m\u001b[0;34m(\u001b[0m\u001b[0;34m)\u001b[0m\u001b[0;34m)\u001b[0m\u001b[0;34m\u001b[0m\u001b[0;34m\u001b[0m\u001b[0m\n\u001b[1;32m     19\u001b[0m     \u001b[0msignal_dwt_std\u001b[0m\u001b[0;34m.\u001b[0m\u001b[0mappend\u001b[0m\u001b[0;34m(\u001b[0m\u001b[0msignal_dwt\u001b[0m\u001b[0;34m[\u001b[0m\u001b[0;34m'ECG_R_Onsets'\u001b[0m\u001b[0;34m]\u001b[0m\u001b[0;34m.\u001b[0m\u001b[0mstd\u001b[0m\u001b[0;34m(\u001b[0m\u001b[0;34m)\u001b[0m\u001b[0;34m)\u001b[0m\u001b[0;34m\u001b[0m\u001b[0;34m\u001b[0m\u001b[0m\n",
            "\u001b[0;32m/anaconda/envs/azureml_py38/lib/python3.8/site-packages/pandas/core/frame.py\u001b[0m in \u001b[0;36m__init__\u001b[0;34m(self, data, index, columns, dtype, copy)\u001b[0m\n\u001b[1;32m    527\u001b[0m         \u001b[0;32melse\u001b[0m\u001b[0;34m:\u001b[0m\u001b[0;34m\u001b[0m\u001b[0;34m\u001b[0m\u001b[0m\n\u001b[1;32m    528\u001b[0m             \u001b[0;32mif\u001b[0m \u001b[0mindex\u001b[0m \u001b[0;32mis\u001b[0m \u001b[0;32mNone\u001b[0m \u001b[0;32mor\u001b[0m \u001b[0mcolumns\u001b[0m \u001b[0;32mis\u001b[0m \u001b[0;32mNone\u001b[0m\u001b[0;34m:\u001b[0m\u001b[0;34m\u001b[0m\u001b[0;34m\u001b[0m\u001b[0m\n\u001b[0;32m--> 529\u001b[0;31m                 \u001b[0;32mraise\u001b[0m \u001b[0mValueError\u001b[0m\u001b[0;34m(\u001b[0m\u001b[0;34m\"DataFrame constructor not properly called!\"\u001b[0m\u001b[0;34m)\u001b[0m\u001b[0;34m\u001b[0m\u001b[0;34m\u001b[0m\u001b[0m\n\u001b[0m\u001b[1;32m    530\u001b[0m \u001b[0;34m\u001b[0m\u001b[0m\n\u001b[1;32m    531\u001b[0m             \u001b[0;32mif\u001b[0m \u001b[0;32mnot\u001b[0m \u001b[0mdtype\u001b[0m\u001b[0;34m:\u001b[0m\u001b[0;34m\u001b[0m\u001b[0;34m\u001b[0m\u001b[0m\n",
            "\u001b[0;31mValueError\u001b[0m: DataFrame constructor not properly called!"
          ]
        }
      ],
      "execution_count": 7,
      "metadata": {
        "jupyter": {
          "source_hidden": false,
          "outputs_hidden": false
        },
        "nteract": {
          "transient": {
            "deleting": false
          }
        },
        "gather": {
          "logged": 1653679176441
        }
      }
    },
    {
      "cell_type": "code",
      "source": [
        "def generategraphs(sig):\r\n",
        "    #interval related analysis\r\n",
        "    # Process ecg\r\n",
        "    ecg_signals, info = nk.ecg_process(sig, sampling_rate=128)\r\n",
        "    print(nk.ecg_intervalrelated(ecg_signals))\r\n",
        "       \r\n",
        "    # Find peaks\r\n",
        "    # peaks, info = nk.ecg_peaks(df['signals_parsed'][i], sampling_rate=128)\r\n",
        "    # hrv_indices = nk.hrv(peaks, sampling_rate=100, show=True)\r\n",
        "    # hrv_indices\r\n",
        "    \r\n",
        "    # Automatically process the (raw) ECG signal\r\n",
        "    return nk.ecg_intervalrelated(ecg_signals)\r\n"
      ],
      "outputs": [],
      "execution_count": 20,
      "metadata": {
        "jupyter": {
          "source_hidden": false,
          "outputs_hidden": false
        },
        "nteract": {
          "transient": {
            "deleting": false
          }
        },
        "gather": {
          "logged": 1653331861026
        }
      }
    },
    {
      "cell_type": "code",
      "source": [
        "sigs_para = pd.DataFrame()\r\n",
        "N = df.shape[0]\r\n",
        "i = 0\r\n",
        "print(N)\r\n",
        "for sig in df['decoded_signal']:\r\n",
        "    sig_parsed = generategraphs(sig)\r\n",
        "    sigs_para.append(sig_parsed)\r\n",
        "\r\n",
        "sigs_para"
      ],
      "outputs": [
        {
          "output_type": "stream",
          "name": "stdout",
          "text": "27418\n   ECG_Rate_Mean  HRV_MeanNN   HRV_SDNN  HRV_SDANN1  HRV_SDNNI1  HRV_SDANN2  \\\n0      69.625698  111.111111  23.088435         NaN         NaN         NaN   \n\n   HRV_SDNNI2  HRV_SDANN5  HRV_SDNNI5  HRV_RMSSD  ...  HRV_SampEn  HRV_ShanEn  \\\n0         NaN         NaN         NaN  27.262126  ...    0.625251    5.335306   \n\n   HRV_FuzzyEn  HRV_MSEn  HRV_CMSEn  HRV_RCMSEn    HRV_CD   HRV_HFD   HRV_KFD  \\\n0      1.08047  1.082662   1.247778    1.288692  0.859994  1.915093  3.832229   \n\n    HRV_LZC  \n0  0.824206  \n\n[1 rows x 90 columns]\n   ECG_Rate_Mean  HRV_MeanNN  HRV_SDNN  HRV_SDANN1  HRV_SDNNI1  HRV_SDANN2  \\\n0      89.334189   86.808219  16.69944         NaN         NaN         NaN   \n\n   HRV_SDNNI2  HRV_SDANN5  HRV_SDNNI5  HRV_RMSSD  ...  HRV_SampEn  HRV_ShanEn  \\\n0         NaN         NaN         NaN  24.523533  ...    1.451809    5.719856   \n\n   HRV_FuzzyEn  HRV_MSEn  HRV_CMSEn  HRV_RCMSEn    HRV_CD   HRV_HFD   HRV_KFD  \\\n0     1.658489  0.758159   1.180165    1.673383  1.701946  2.067276  7.628762   \n\n    HRV_LZC  \n0  0.852031  \n\n[1 rows x 90 columns]\n   ECG_Rate_Mean  HRV_MeanNN   HRV_SDNN  HRV_SDANN1  HRV_SDNNI1  HRV_SDANN2  \\\n0     137.610481    56.64095  20.883859         NaN         NaN         NaN   \n\n   HRV_SDNNI2  HRV_SDANN5  HRV_SDNNI5  HRV_RMSSD  ...  HRV_SampEn  HRV_ShanEn  \\\n0         NaN         NaN         NaN  26.107892  ...    0.570534    4.127673   \n\n   HRV_FuzzyEn  HRV_MSEn  HRV_CMSEn  HRV_RCMSEn    HRV_CD  HRV_HFD   HRV_KFD  \\\n0     0.741716  0.843672   0.874645     0.70716  0.489852  1.94086  2.819075   \n\n    HRV_LZC  \n0  0.722556  \n\n[1 rows x 90 columns]\n   ECG_Rate_Mean  HRV_MeanNN   HRV_SDNN  HRV_SDANN1  HRV_SDNNI1  HRV_SDANN2  \\\n0       74.05516  104.707182  18.798268         NaN         NaN         NaN   \n\n   HRV_SDNNI2  HRV_SDANN5  HRV_SDNNI5  HRV_RMSSD  ...  HRV_SampEn  HRV_ShanEn  \\\n0         NaN         NaN         NaN  28.296643  ...     0.50184    5.623018   \n\n   HRV_FuzzyEn  HRV_MSEn  HRV_CMSEn  HRV_RCMSEn    HRV_CD   HRV_HFD  HRV_KFD  \\\n0     1.362407    0.5301    0.96294    1.304051  1.325719  1.988611  6.19864   \n\n    HRV_LZC  \n0  0.704405  \n\n[1 rows x 90 columns]\n   ECG_Rate_Mean  HRV_MeanNN   HRV_SDNN  HRV_SDANN1  HRV_SDNNI1  HRV_SDANN2  \\\n0     117.860031   65.944637  13.931518         NaN         NaN         NaN   \n\n   HRV_SDNNI2  HRV_SDANN5  HRV_SDNNI5  HRV_RMSSD  ...  HRV_SampEn  HRV_ShanEn  \\\n0         NaN         NaN         NaN  21.404098  ...    0.324501    4.426816   \n\n   HRV_FuzzyEn  HRV_MSEn  HRV_CMSEn  HRV_RCMSEn    HRV_CD   HRV_HFD   HRV_KFD  \\\n0     0.851456  0.760346   0.974525    1.065157  0.874727  2.050512  5.971222   \n\n    HRV_LZC  \n0  0.707174  \n\n[1 rows x 90 columns]\n   ECG_Rate_Mean  HRV_MeanNN   HRV_SDNN  HRV_SDANN1  HRV_SDNNI1  HRV_SDANN2  \\\n0      61.437883  126.673333  34.616692         NaN         NaN         NaN   \n\n   HRV_SDNNI2  HRV_SDANN5  HRV_SDNNI5  HRV_RMSSD  ...  HRV_SampEn  HRV_ShanEn  \\\n0         NaN         NaN         NaN  39.360577  ...    1.224764    5.967222   \n\n   HRV_FuzzyEn  HRV_MSEn  HRV_CMSEn  HRV_RCMSEn    HRV_CD   HRV_HFD   HRV_KFD  \\\n0     1.467603  1.558242   1.297866    1.585004  1.329975  1.946819  7.474246   \n\n    HRV_LZC  \n0  1.012035  \n\n[1 rows x 90 columns]\n   ECG_Rate_Mean  HRV_MeanNN   HRV_SDNN  HRV_SDANN1  HRV_SDNNI1  HRV_SDANN2  \\\n0      68.442391  112.662722  12.381288         NaN         NaN         NaN   \n\n   HRV_SDNNI2  HRV_SDANN5  HRV_SDNNI5  HRV_RMSSD  ...  HRV_SampEn  HRV_ShanEn  \\\n0         NaN         NaN         NaN  20.584466  ...    1.352846    5.211337   \n\n   HRV_FuzzyEn  HRV_MSEn  HRV_CMSEn  HRV_RCMSEn    HRV_CD   HRV_HFD   HRV_KFD  \\\n0     1.417543  0.664231   1.266498    1.850369  1.547441  2.081403  4.631238   \n\n    HRV_LZC  \n0  0.919636  \n\n[1 rows x 90 columns]\n   ECG_Rate_Mean  HRV_MeanNN   HRV_SDNN  HRV_SDANN1  HRV_SDNNI1  HRV_SDANN2  \\\n0      71.848625  107.344633  23.886091         NaN         NaN         NaN   \n\n   HRV_SDNNI2  HRV_SDANN5  HRV_SDNNI5  HRV_RMSSD  ...  HRV_SampEn  HRV_ShanEn  \\\n0         NaN         NaN         NaN  21.383272  ...    0.681171    4.971603   \n\n   HRV_FuzzyEn  HRV_MSEn  HRV_CMSEn  HRV_RCMSEn    HRV_CD   HRV_HFD   HRV_KFD  \\\n0     1.264193  0.963516   0.713458    1.103321  1.296936  1.838971  2.872842   \n\n    HRV_LZC  \n0  0.590658  \n\n[1 rows x 90 columns]\n   ECG_Rate_Mean  HRV_MeanNN   HRV_SDNN  HRV_SDANN1  HRV_SDNNI1  HRV_SDANN2  \\\n0      57.636437  136.410072  44.075004         NaN         NaN         NaN   \n\n   HRV_SDNNI2  HRV_SDANN5  HRV_SDNNI5  HRV_RMSSD  ...  HRV_SampEn  HRV_ShanEn  \\\n0         NaN         NaN         NaN  64.029488  ...    1.034823    5.907776   \n\n   HRV_FuzzyEn  HRV_MSEn  HRV_CMSEn  HRV_RCMSEn    HRV_CD   HRV_HFD   HRV_KFD  \\\n0     0.992923  1.038944   1.325183    1.571727  1.152133  1.955628  3.985774   \n\n    HRV_LZC  \n0  0.973093  \n\n[1 rows x 90 columns]\n   ECG_Rate_Mean  HRV_MeanNN   HRV_SDNN  HRV_SDANN1  HRV_SDNNI1  HRV_SDANN2  \\\n0      61.330526  125.721854  16.369956         NaN         NaN         NaN   \n\n   HRV_SDNNI2  HRV_SDANN5  HRV_SDNNI5  HRV_RMSSD  ...  HRV_SampEn  HRV_ShanEn  \\\n0         NaN         NaN         NaN  19.597619  ...    1.485029     5.34573   \n\n   HRV_FuzzyEn  HRV_MSEn  HRV_CMSEn  HRV_RCMSEn    HRV_CD   HRV_HFD   HRV_KFD  \\\n0     1.441534  1.189023   1.264506    1.714158  1.561258  1.956223  3.189945   \n\n    HRV_LZC  \n0  1.102538  \n\n[1 rows x 90 columns]\n   ECG_Rate_Mean  HRV_MeanNN   HRV_SDNN  HRV_SDANN1  HRV_SDNNI1  HRV_SDANN2  \\\n0      58.780898  132.159722  27.590325         NaN         NaN         NaN   \n\n   HRV_SDNNI2  HRV_SDANN5  HRV_SDNNI5  HRV_RMSSD  ...  HRV_SampEn  HRV_ShanEn  \\\n0         NaN         NaN         NaN  41.880533  ...    2.124465    6.004733   \n\n   HRV_FuzzyEn  HRV_MSEn  HRV_CMSEn  HRV_RCMSEn    HRV_CD   HRV_HFD   HRV_KFD  \\\n0     1.619891   1.57677   1.328064    1.855084  1.647646  2.019253  4.093392   \n\n    HRV_LZC  \n0  1.095405  \n\n[1 rows x 90 columns]\n   ECG_Rate_Mean  HRV_MeanNN   HRV_SDNN  HRV_SDANN1  HRV_SDNNI1  HRV_SDANN2  \\\n0      68.249378   114.23494  29.124169         NaN         NaN         NaN   \n\n   HRV_SDNNI2  HRV_SDANN5  HRV_SDNNI5  HRV_RMSSD  ...  HRV_SampEn  HRV_ShanEn  \\\n0         NaN         NaN         NaN   39.78838  ...    0.810131    4.895288   \n\n   HRV_FuzzyEn  HRV_MSEn  HRV_CMSEn  HRV_RCMSEn    HRV_CD   HRV_HFD   HRV_KFD  \\\n0     1.206513  0.717236   0.904688    1.284648  1.171156  1.989867  3.473261   \n\n    HRV_LZC  \n0  0.533135  \n\n[1 rows x 90 columns]\n   ECG_Rate_Mean  HRV_MeanNN   HRV_SDNN  HRV_SDANN1  HRV_SDNNI1  HRV_SDANN2  \\\n0       62.77963  123.535948  32.319952         NaN         NaN         NaN   \n\n   HRV_SDNNI2  HRV_SDANN5  HRV_SDNNI5  HRV_RMSSD  ...  HRV_SampEn  HRV_ShanEn  \\\n0         NaN         NaN         NaN  37.669966  ...    2.030867    6.156227   \n\n   HRV_FuzzyEn  HRV_MSEn  HRV_CMSEn  HRV_RCMSEn    HRV_CD   HRV_HFD   HRV_KFD  \\\n0     1.375639  1.311401   1.497712    1.968109  1.527608  1.951455  3.283208   \n\n    HRV_LZC  \n0  1.138414  \n\n[1 rows x 90 columns]\n   ECG_Rate_Mean  HRV_MeanNN   HRV_SDNN  HRV_SDANN1  HRV_SDNNI1  HRV_SDANN2  \\\n0      81.068188    95.89899  24.489921         NaN         NaN         NaN   \n\n   HRV_SDNNI2  HRV_SDANN5  HRV_SDNNI5  HRV_RMSSD  ...  HRV_SampEn  HRV_ShanEn  \\\n0         NaN         NaN         NaN  33.855696  ...    1.349306    5.693939   \n\n   HRV_FuzzyEn  HRV_MSEn  HRV_CMSEn  HRV_RCMSEn    HRV_CD   HRV_HFD   HRV_KFD  \\\n0     1.085309  1.081913   1.289695     1.46242  1.179356  1.975304  3.421814   \n\n    HRV_LZC  \n0  1.078899  \n\n[1 rows x 90 columns]\n   ECG_Rate_Mean  HRV_MeanNN  HRV_SDNN  HRV_SDANN1  HRV_SDNNI1  HRV_SDANN2  \\\n0      97.515776   78.954357  9.242677         NaN         NaN         NaN   \n\n   HRV_SDNNI2  HRV_SDANN5  HRV_SDNNI5  HRV_RMSSD  ...  HRV_SampEn  HRV_ShanEn  \\\n0         NaN         NaN         NaN  11.037814  ...    1.209838    4.777359   \n\n   HRV_FuzzyEn  HRV_MSEn  HRV_CMSEn  HRV_RCMSEn    HRV_CD   HRV_HFD   HRV_KFD  \\\n0     1.281804  1.099074   1.253896    1.980446  1.162917  1.913106  2.926372   \n\n    HRV_LZC  \n0  1.083508  \n\n[1 rows x 90 columns]\n   ECG_Rate_Mean  HRV_MeanNN   HRV_SDNN  HRV_SDANN1  HRV_SDNNI1  HRV_SDANN2  \\\n0      67.917979  114.155689  22.555948         NaN         NaN         NaN   \n\n   HRV_SDNNI2  HRV_SDANN5  HRV_SDNNI5  HRV_RMSSD  ...  HRV_SampEn  HRV_ShanEn  \\\n0         NaN         NaN         NaN  28.349051  ...    0.654504    5.532686   \n\n   HRV_FuzzyEn  HRV_MSEn  HRV_CMSEn  HRV_RCMSEn    HRV_CD   HRV_HFD   HRV_KFD  \\\n0     1.069051  1.224909   1.235721    1.409852  0.921806  1.898945  4.717932   \n\n    HRV_LZC  \n0  0.840062  \n\n[1 rows x 90 columns]\n   ECG_Rate_Mean  HRV_MeanNN   HRV_SDNN  HRV_SDANN1  HRV_SDNNI1  HRV_SDANN2  \\\n0      66.326717  117.104294  26.980472         NaN         NaN         NaN   \n\n   HRV_SDNNI2  HRV_SDANN5  HRV_SDNNI5  HRV_RMSSD  ...  HRV_SampEn  HRV_ShanEn  \\\n0         NaN         NaN         NaN  34.897115  ...    1.404422    5.852404   \n\n   HRV_FuzzyEn  HRV_MSEn  HRV_CMSEn  HRV_RCMSEn    HRV_CD   HRV_HFD   HRV_KFD  \\\n0     1.637917  1.067544   1.336104    1.633434  1.510399  1.987264  9.073349   \n\n    HRV_LZC  \n0  1.036937  \n\n[1 rows x 90 columns]\n   ECG_Rate_Mean  HRV_MeanNN   HRV_SDNN  HRV_SDANN1  HRV_SDNNI1  HRV_SDANN2  \\\n0      62.869393  122.371795  14.027263         NaN         NaN         NaN   \n\n   HRV_SDNNI2  HRV_SDANN5  HRV_SDNNI5  HRV_RMSSD  ...  HRV_SampEn  HRV_ShanEn  \\\n0         NaN         NaN         NaN  15.632472  ...    1.796954    5.251136   \n\n   HRV_FuzzyEn  HRV_MSEn  HRV_CMSEn  HRV_RCMSEn    HRV_CD   HRV_HFD   HRV_KFD  \\\n0     1.436642  1.082966   1.334184    1.738873  1.559207  1.830643  3.348828   \n\n   HRV_LZC  \n0  1.07413  \n\n[1 rows x 90 columns]\n   ECG_Rate_Mean  HRV_MeanNN   HRV_SDNN  HRV_SDANN1  HRV_SDNNI1  HRV_SDANN2  \\\n0      60.413119  128.209459  26.699959         NaN         NaN         NaN   \n\n   HRV_SDNNI2  HRV_SDANN5  HRV_SDNNI5  HRV_RMSSD  ...  HRV_SampEn  HRV_ShanEn  \\\n0         NaN         NaN         NaN  35.105284  ...    0.342945    5.068563   \n\n   HRV_FuzzyEn  HRV_MSEn  HRV_CMSEn  HRV_RCMSEn    HRV_CD  HRV_HFD   HRV_KFD  \\\n0     1.387894  0.449932   0.445855    0.504705  1.391139  2.01295  6.803202   \n\n    HRV_LZC  \n0  0.535838  \n\n[1 rows x 90 columns]\n   ECG_Rate_Mean  HRV_MeanNN   HRV_SDNN  HRV_SDANN1  HRV_SDNNI1  HRV_SDANN2  \\\n0     112.974656   68.741007  17.539368         NaN         NaN         NaN   \n\n   HRV_SDNNI2  HRV_SDANN5  HRV_SDNNI5  HRV_RMSSD  ...  HRV_SampEn  HRV_ShanEn  \\\n0         NaN         NaN         NaN  23.134905  ...    1.288564    5.416475   \n\n   HRV_FuzzyEn  HRV_MSEn  HRV_CMSEn  HRV_RCMSEn    HRV_CD   HRV_HFD   HRV_KFD  \\\n0     1.410737  0.871831   1.389006    1.668171  1.175359  1.949104  4.163055   \n\n    HRV_LZC  \n0  1.109783  \n\n[1 rows x 90 columns]\n   ECG_Rate_Mean  HRV_MeanNN   HRV_SDNN  HRV_SDANN1  HRV_SDNNI1  HRV_SDANN2  \\\n0      78.994512   98.854922  20.893821         NaN         NaN         NaN   \n\n   HRV_SDNNI2  HRV_SDANN5  HRV_SDNNI5  HRV_RMSSD  ...  HRV_SampEn  HRV_ShanEn  \\\n0         NaN         NaN         NaN  33.251801  ...    1.115729    5.660061   \n\n   HRV_FuzzyEn  HRV_MSEn  HRV_CMSEn  HRV_RCMSEn    HRV_CD   HRV_HFD   HRV_KFD  \\\n0     1.390938  0.776301   1.421181    1.851152  1.296951  2.025597  6.929644   \n\n    HRV_LZC  \n0  1.062157  \n\n[1 rows x 90 columns]\n   ECG_Rate_Mean  HRV_MeanNN   HRV_SDNN  HRV_SDANN1  HRV_SDNNI1  HRV_SDANN2  \\\n0      59.627489  131.701389  44.516844         NaN         NaN         NaN   \n\n   HRV_SDNNI2  HRV_SDANN5  HRV_SDNNI5  HRV_RMSSD  ...  HRV_SampEn  HRV_ShanEn  \\\n0         NaN         NaN         NaN  58.658369  ...    1.373964    6.192078   \n\n   HRV_FuzzyEn  HRV_MSEn  HRV_CMSEn  HRV_RCMSEn  HRV_CD  HRV_HFD   HRV_KFD  \\\n0     1.375454  1.020068   1.369878    1.583306  1.1323  2.01982  2.702702   \n\n    HRV_LZC  \n0  1.145196  \n\n[1 rows x 90 columns]\n   ECG_Rate_Mean  HRV_MeanNN   HRV_SDNN  HRV_SDANN1  HRV_SDNNI1  HRV_SDANN2  \\\n0      65.897525  118.062112  26.575527         NaN         NaN         NaN   \n\n   HRV_SDNNI2  HRV_SDANN5  HRV_SDNNI5  HRV_RMSSD  ...  HRV_SampEn  HRV_ShanEn  \\\n0         NaN         NaN         NaN  36.634342  ...    1.014492    6.009896   \n\n   HRV_FuzzyEn  HRV_MSEn  HRV_CMSEn  HRV_RCMSEn    HRV_CD   HRV_HFD   HRV_KFD  \\\n0     1.347711  1.426323    1.39374    1.847299  1.325122  1.970562  6.363453   \n\n    HRV_LZC  \n0  1.092807  \n\n[1 rows x 90 columns]\n   ECG_Rate_Mean  HRV_MeanNN  HRV_SDNN  HRV_SDANN1  HRV_SDNNI1  HRV_SDANN2  \\\n0     110.859554   69.941392  15.76937         NaN         NaN         NaN   \n\n   HRV_SDNNI2  HRV_SDANN5  HRV_SDNNI5  HRV_RMSSD  ...  HRV_SampEn  HRV_ShanEn  \\\n0         NaN         NaN         NaN  21.796266  ...    1.304668    5.110267   \n\n   HRV_FuzzyEn  HRV_MSEn  HRV_CMSEn  HRV_RCMSEn   HRV_CD   HRV_HFD   HRV_KFD  \\\n0     1.235478  0.931378    1.29436    1.260417  1.06655  2.022917  3.547514   \n\n    HRV_LZC  \n0  0.889314  \n\n[1 rows x 90 columns]\n   ECG_Rate_Mean  HRV_MeanNN   HRV_SDNN  HRV_SDANN1  HRV_SDNNI1  HRV_SDANN2  \\\n0      69.611413  112.190476  28.426595         NaN         NaN         NaN   \n\n   HRV_SDNNI2  HRV_SDANN5  HRV_SDNNI5  HRV_RMSSD  ...  HRV_SampEn  HRV_ShanEn  \\\n0         NaN         NaN         NaN  38.132137  ...    1.457557    5.849878   \n\n   HRV_FuzzyEn  HRV_MSEn  HRV_CMSEn  HRV_RCMSEn    HRV_CD   HRV_HFD  \\\n0     1.540423  1.097029   1.306403    1.535551  1.443634  2.032834   \n\n     HRV_KFD   HRV_LZC  \n0  10.858321  1.144049  \n\n[1 rows x 90 columns]\n   ECG_Rate_Mean  HRV_MeanNN   HRV_SDNN  HRV_SDANN1  HRV_SDNNI1  HRV_SDANN2  \\\n0      81.612144   95.959596  26.934935         NaN         NaN         NaN   \n\n   HRV_SDNNI2  HRV_SDANN5  HRV_SDNNI5  HRV_RMSSD  ...  HRV_SampEn  HRV_ShanEn  \\\n0         NaN         NaN         NaN   30.02799  ...    0.831577     5.09881   \n\n   HRV_FuzzyEn  HRV_MSEn  HRV_CMSEn  HRV_RCMSEn   HRV_CD  HRV_HFD   HRV_KFD  \\\n0     0.976671  0.691021   1.200215    1.316417  0.93072  1.96731  4.248886   \n\n   HRV_LZC  \n0  0.73211  \n\n[1 rows x 90 columns]\n   ECG_Rate_Mean  HRV_MeanNN   HRV_SDNN  HRV_SDANN1  HRV_SDNNI1  HRV_SDANN2  \\\n0      83.841831   92.009662  14.316801         NaN         NaN         NaN   \n\n   HRV_SDNNI2  HRV_SDANN5  HRV_SDNNI5  HRV_RMSSD  ...  HRV_SampEn  HRV_ShanEn  \\\n0         NaN         NaN         NaN  19.714959  ...    0.687414    4.604411   \n\n   HRV_FuzzyEn  HRV_MSEn  HRV_CMSEn  HRV_RCMSEn   HRV_CD   HRV_HFD   HRV_KFD  \\\n0      1.03952  1.089163   1.055065    1.068864  0.72649  1.965162  3.319741   \n\n    HRV_LZC  \n0  0.929165  \n\n[1 rows x 90 columns]\n   ECG_Rate_Mean  HRV_MeanNN   HRV_SDNN  HRV_SDANN1  HRV_SDNNI1  HRV_SDANN2  \\\n0      71.673185  107.694915  23.174673         NaN         NaN         NaN   \n\n   HRV_SDNNI2  HRV_SDANN5  HRV_SDNNI5  HRV_RMSSD  ...  HRV_SampEn  HRV_ShanEn  \\\n0         NaN         NaN         NaN  23.957111  ...    1.280134    5.823423   \n\n   HRV_FuzzyEn  HRV_MSEn  HRV_CMSEn  HRV_RCMSEn    HRV_CD   HRV_HFD  HRV_KFD  \\\n0     1.157305  1.470336   1.464365    1.818563  1.396626  1.848256  4.37093   \n\n    HRV_LZC  \n0  0.970367  \n\n[1 rows x 90 columns]\n   ECG_Rate_Mean  HRV_MeanNN   HRV_SDNN  HRV_SDANN1  HRV_SDNNI1  HRV_SDANN2  \\\n0      71.554747  107.863636  16.762667         NaN         NaN         NaN   \n\n   HRV_SDNNI2  HRV_SDANN5  HRV_SDNNI5  HRV_RMSSD  ...  HRV_SampEn  HRV_ShanEn  \\\n0         NaN         NaN         NaN  22.602402  ...    1.393312    5.691213   \n\n   HRV_FuzzyEn  HRV_MSEn  HRV_CMSEn  HRV_RCMSEn    HRV_CD   HRV_HFD   HRV_KFD  \\\n0      1.24146  0.970416   1.155327    1.460681  1.693622  2.013691  6.733486   \n\n    HRV_LZC  \n0  0.932429  \n\n[1 rows x 90 columns]\n   ECG_Rate_Mean  HRV_MeanNN   HRV_SDNN  HRV_SDANN1  HRV_SDNNI1  HRV_SDANN2  \\\n0      75.161263  102.639785  15.561711         NaN         NaN         NaN   \n\n   HRV_SDNNI2  HRV_SDANN5  HRV_SDNNI5  HRV_RMSSD  ...  HRV_SampEn  HRV_ShanEn  \\\n0         NaN         NaN         NaN  17.231649  ...    1.990888    5.340701   \n\n   HRV_FuzzyEn  HRV_MSEn  HRV_CMSEn  HRV_RCMSEn    HRV_CD   HRV_HFD  HRV_KFD  \\\n0     1.444207  1.454489   1.343383    1.822594  1.487302  1.930418  3.86701   \n\n    HRV_LZC  \n0  1.134927  \n\n[1 rows x 90 columns]\n   ECG_Rate_Mean  HRV_MeanNN   HRV_SDNN  HRV_SDANN1  HRV_SDNNI1  HRV_SDANN2  \\\n0      77.049396  102.365591  26.547168         NaN         NaN         NaN   \n\n   HRV_SDNNI2  HRV_SDANN5  HRV_SDNNI5  HRV_RMSSD  ...  HRV_SampEn  HRV_ShanEn  \\\n0         NaN         NaN         NaN  45.007327  ...    0.859044    5.999873   \n\n   HRV_FuzzyEn  HRV_MSEn  HRV_CMSEn  HRV_RCMSEn   HRV_CD   HRV_HFD   HRV_KFD  \\\n0     1.270097  0.840869   1.124784    1.660478  1.31987  2.023085  8.590697   \n\n    HRV_LZC  \n0  0.851195  \n\n[1 rows x 90 columns]\n   ECG_Rate_Mean  HRV_MeanNN   HRV_SDNN  HRV_SDANN1  HRV_SDNNI1  HRV_SDANN2  \\\n0      61.798561  125.549669  25.139528         NaN         NaN         NaN   \n\n   HRV_SDNNI2  HRV_SDANN5  HRV_SDNNI5  HRV_RMSSD  ...  HRV_SampEn  HRV_ShanEn  \\\n0         NaN         NaN         NaN  36.697321  ...    2.122262    5.946968   \n\n   HRV_FuzzyEn  HRV_MSEn  HRV_CMSEn  HRV_RCMSEn    HRV_CD   HRV_HFD   HRV_KFD  \\\n0     1.669591  1.379865   1.380681    1.769554  1.813266  2.016159  5.198747   \n\n    HRV_LZC  \n0  1.150475  \n\n[1 rows x 90 columns]\n   ECG_Rate_Mean  HRV_MeanNN  HRV_SDNN  HRV_SDANN1  HRV_SDNNI1  HRV_SDANN2  \\\n0      67.349247  114.789157  25.47008         NaN         NaN         NaN   \n\n   HRV_SDNNI2  HRV_SDANN5  HRV_SDNNI5  HRV_RMSSD  ...  HRV_SampEn  HRV_ShanEn  \\\n0         NaN         NaN         NaN  32.857636  ...    0.997052    5.313941   \n\n   HRV_FuzzyEn  HRV_MSEn  HRV_CMSEn  HRV_RCMSEn    HRV_CD   HRV_HFD   HRV_KFD  \\\n0     1.111605  1.092313   1.145994    1.123512  1.066942  1.966234  3.709798   \n\n    HRV_LZC  \n0  0.799703  \n\n[1 rows x 90 columns]\n   ECG_Rate_Mean  HRV_MeanNN   HRV_SDNN  HRV_SDANN1  HRV_SDNNI1  HRV_SDANN2  \\\n0      61.920711  125.078947  28.254877         NaN         NaN         NaN   \n\n   HRV_SDNNI2  HRV_SDANN5  HRV_SDNNI5  HRV_RMSSD  ...  HRV_SampEn  HRV_ShanEn  \\\n0         NaN         NaN         NaN  32.883398  ...    2.062249    6.143234   \n\n   HRV_FuzzyEn  HRV_MSEn  HRV_CMSEn  HRV_RCMSEn    HRV_CD   HRV_HFD   HRV_KFD  \\\n0     1.482506  1.564971   1.277985      1.9288  1.625065  1.932784  3.274487   \n\n    HRV_LZC  \n0  1.049042  \n\n[1 rows x 90 columns]\n   ECG_Rate_Mean  HRV_MeanNN   HRV_SDNN  HRV_SDANN1  HRV_SDNNI1  HRV_SDANN2  \\\n0      64.490503  120.535032  30.603655         NaN         NaN         NaN   \n\n   HRV_SDNNI2  HRV_SDANN5  HRV_SDNNI5  HRV_RMSSD  ...  HRV_SampEn  HRV_ShanEn  \\\n0         NaN         NaN         NaN  40.492402  ...    1.900959    6.090471   \n\n   HRV_FuzzyEn  HRV_MSEn  HRV_CMSEn  HRV_RCMSEn    HRV_CD   HRV_HFD   HRV_KFD  \\\n0      1.53858  1.414205   1.270844    1.592423  1.635475  2.021273  3.831147   \n\n    HRV_LZC  \n0  1.068639  \n\n[1 rows x 90 columns]\n   ECG_Rate_Mean  HRV_MeanNN  HRV_SDNN  HRV_SDANN1  HRV_SDNNI1  HRV_SDANN2  \\\n0     110.924764   70.095588  20.99987         NaN         NaN         NaN   \n\n   HRV_SDNNI2  HRV_SDANN5  HRV_SDNNI5  HRV_RMSSD  ...  HRV_SampEn  HRV_ShanEn  \\\n0         NaN         NaN         NaN   25.77099  ...    1.563522    5.826558   \n\n   HRV_FuzzyEn  HRV_MSEn  HRV_CMSEn  HRV_RCMSEn    HRV_CD   HRV_HFD   HRV_KFD  \\\n0     1.366709  1.352172   1.369756    1.819872  1.332264  1.952039  2.980933   \n\n    HRV_LZC  \n0  1.129866  \n\n[1 rows x 90 columns]\n   ECG_Rate_Mean  HRV_MeanNN   HRV_SDNN  HRV_SDANN1  HRV_SDNNI1  HRV_SDANN2  \\\n0      62.274757  125.019737  31.533115         NaN         NaN         NaN   \n\n   HRV_SDNNI2  HRV_SDANN5  HRV_SDNNI5  HRV_RMSSD  ...  HRV_SampEn  HRV_ShanEn  \\\n0         NaN         NaN         NaN  39.453384  ...     2.04122    6.225407   \n\n   HRV_FuzzyEn  HRV_MSEn  HRV_CMSEn  HRV_RCMSEn    HRV_CD   HRV_HFD   HRV_KFD  \\\n0     1.546119  1.479172   1.270195    1.886756  1.740456  1.957866  3.702844   \n\n    HRV_LZC  \n0  1.239777  \n\n[1 rows x 90 columns]\n   ECG_Rate_Mean  HRV_MeanNN  HRV_SDNN  HRV_SDANN1  HRV_SDNNI1  HRV_SDANN2  \\\n0      78.649429   99.705263  24.68441         NaN         NaN         NaN   \n\n   HRV_SDNNI2  HRV_SDANN5  HRV_SDNNI5  HRV_RMSSD  ...  HRV_SampEn  HRV_ShanEn  \\\n0         NaN         NaN         NaN  41.171149  ...    0.912026    6.024538   \n\n   HRV_FuzzyEn  HRV_MSEn  HRV_CMSEn  HRV_RCMSEn    HRV_CD   HRV_HFD   HRV_KFD  \\\n0     1.451703   0.58082   1.046933     1.43978  1.491955  2.079428  5.425463   \n\n    HRV_LZC  \n0  0.996034  \n\n[1 rows x 90 columns]\n   ECG_Rate_Mean  HRV_MeanNN   HRV_SDNN  HRV_SDANN1  HRV_SDNNI1  HRV_SDANN2  \\\n0      63.435297  121.113924  12.804246         NaN         NaN         NaN   \n\n   HRV_SDNNI2  HRV_SDANN5  HRV_SDNNI5  HRV_RMSSD  ...  HRV_SampEn  HRV_ShanEn  \\\n0         NaN         NaN         NaN  12.559413  ...    0.520978    5.206802   \n\n   HRV_FuzzyEn  HRV_MSEn  HRV_CMSEn  HRV_RCMSEn    HRV_CD   HRV_HFD   HRV_KFD  \\\n0     1.304749  0.990448   0.861006    1.532887  1.250903  1.797115  4.436405   \n\n   HRV_LZC  \n0  0.78585  \n\n[1 rows x 90 columns]\n   ECG_Rate_Mean  HRV_MeanNN   HRV_SDNN  HRV_SDANN1  HRV_SDNNI1  HRV_SDANN2  \\\n0      59.963421   128.70068  17.840778         NaN         NaN         NaN   \n\n   HRV_SDNNI2  HRV_SDANN5  HRV_SDNNI5  HRV_RMSSD  ...  HRV_SampEn  HRV_ShanEn  \\\n0         NaN         NaN         NaN  23.862764  ...    0.735407    5.374307   \n\n   HRV_FuzzyEn  HRV_MSEn  HRV_CMSEn  HRV_RCMSEn    HRV_CD   HRV_HFD   HRV_KFD  \\\n0     1.349351  0.834667   0.579279    0.731848  1.423429  2.047506  6.573255   \n\n    HRV_LZC  \n0  0.783638  \n\n[1 rows x 90 columns]\n   ECG_Rate_Mean  HRV_MeanNN   HRV_SDNN  HRV_SDANN1  HRV_SDNNI1  HRV_SDANN2  \\\n0      66.638982  115.563636  12.465215         NaN         NaN         NaN   \n\n   HRV_SDNNI2  HRV_SDANN5  HRV_SDNNI5  HRV_RMSSD  ...  HRV_SampEn  HRV_ShanEn  \\\n0         NaN         NaN         NaN  17.504877  ...    0.856414    5.020367   \n\n   HRV_FuzzyEn  HRV_MSEn  HRV_CMSEn  HRV_RCMSEn    HRV_CD   HRV_HFD  HRV_KFD  \\\n0     1.181626  1.292672   1.325028     1.78984  1.277998  1.959882  4.88163   \n\n    HRV_LZC  \n0  1.026821  \n\n[1 rows x 90 columns]\n   ECG_Rate_Mean  HRV_MeanNN   HRV_SDNN  HRV_SDANN1  HRV_SDNNI1  HRV_SDANN2  \\\n0      81.551405   94.950249  18.203777         NaN         NaN         NaN   \n\n   HRV_SDNNI2  HRV_SDANN5  HRV_SDNNI5  HRV_RMSSD  ...  HRV_SampEn  HRV_ShanEn  \\\n0         NaN         NaN         NaN   23.24543  ...    1.354546    5.565957   \n\n   HRV_FuzzyEn  HRV_MSEn  HRV_CMSEn  HRV_RCMSEn    HRV_CD   HRV_HFD   HRV_KFD  \\\n0     1.453355  1.175038   1.486771    2.131874  1.415555  1.970447  4.588736   \n\n    HRV_LZC  \n0  1.065818  \n\n[1 rows x 90 columns]\n"
        },
        {
          "output_type": "stream",
          "name": "stderr",
          "text": "/anaconda/envs/azureml_py38/lib/python3.8/site-packages/numpy/core/fromnumeric.py:3372: RuntimeWarning: Mean of empty slice.\n  return _methods._mean(a, axis=axis, dtype=dtype,\n/anaconda/envs/azureml_py38/lib/python3.8/site-packages/numpy/core/_methods.py:170: RuntimeWarning: invalid value encountered in double_scalars\n  ret = ret.dtype.type(ret / rcount)\n/anaconda/envs/azureml_py38/lib/python3.8/site-packages/numpy/core/fromnumeric.py:3372: RuntimeWarning: Mean of empty slice.\n  return _methods._mean(a, axis=axis, dtype=dtype,\n/anaconda/envs/azureml_py38/lib/python3.8/site-packages/numpy/core/_methods.py:170: RuntimeWarning: invalid value encountered in double_scalars\n  ret = ret.dtype.type(ret / rcount)\n"
        },
        {
          "output_type": "error",
          "ename": "KeyError",
          "evalue": "'[19184] not in index'",
          "traceback": [
            "\u001b[0;31m---------------------------------------------------------------------------\u001b[0m",
            "\u001b[0;31mTypeError\u001b[0m                                 Traceback (most recent call last)",
            "\u001b[0;32m/anaconda/envs/azureml_py38/lib/python3.8/site-packages/pandas/core/series.py\u001b[0m in \u001b[0;36m__setitem__\u001b[0;34m(self, key, value)\u001b[0m\n\u001b[1;32m   1000\u001b[0m         \u001b[0;32mtry\u001b[0m\u001b[0;34m:\u001b[0m\u001b[0;34m\u001b[0m\u001b[0;34m\u001b[0m\u001b[0m\n\u001b[0;32m-> 1001\u001b[0;31m             \u001b[0mself\u001b[0m\u001b[0;34m.\u001b[0m\u001b[0m_set_with_engine\u001b[0m\u001b[0;34m(\u001b[0m\u001b[0mkey\u001b[0m\u001b[0;34m,\u001b[0m \u001b[0mvalue\u001b[0m\u001b[0;34m)\u001b[0m\u001b[0;34m\u001b[0m\u001b[0;34m\u001b[0m\u001b[0m\n\u001b[0m\u001b[1;32m   1002\u001b[0m         \u001b[0;32mexcept\u001b[0m \u001b[0;34m(\u001b[0m\u001b[0mKeyError\u001b[0m\u001b[0;34m,\u001b[0m \u001b[0mValueError\u001b[0m\u001b[0;34m)\u001b[0m\u001b[0;34m:\u001b[0m\u001b[0;34m\u001b[0m\u001b[0;34m\u001b[0m\u001b[0m\n",
            "\u001b[0;32m/anaconda/envs/azureml_py38/lib/python3.8/site-packages/pandas/core/series.py\u001b[0m in \u001b[0;36m_set_with_engine\u001b[0;34m(self, key, value)\u001b[0m\n\u001b[1;32m   1033\u001b[0m         \u001b[0;31m# fails with AttributeError for IntervalIndex\u001b[0m\u001b[0;34m\u001b[0m\u001b[0;34m\u001b[0m\u001b[0;34m\u001b[0m\u001b[0m\n\u001b[0;32m-> 1034\u001b[0;31m         \u001b[0mloc\u001b[0m \u001b[0;34m=\u001b[0m \u001b[0mself\u001b[0m\u001b[0;34m.\u001b[0m\u001b[0mindex\u001b[0m\u001b[0;34m.\u001b[0m\u001b[0m_engine\u001b[0m\u001b[0;34m.\u001b[0m\u001b[0mget_loc\u001b[0m\u001b[0;34m(\u001b[0m\u001b[0mkey\u001b[0m\u001b[0;34m)\u001b[0m\u001b[0;34m\u001b[0m\u001b[0;34m\u001b[0m\u001b[0m\n\u001b[0m\u001b[1;32m   1035\u001b[0m         \u001b[0mvalidate_numeric_casting\u001b[0m\u001b[0;34m(\u001b[0m\u001b[0mself\u001b[0m\u001b[0;34m.\u001b[0m\u001b[0mdtype\u001b[0m\u001b[0;34m,\u001b[0m \u001b[0mvalue\u001b[0m\u001b[0;34m)\u001b[0m\u001b[0;34m\u001b[0m\u001b[0;34m\u001b[0m\u001b[0m\n",
            "\u001b[0;32mpandas/_libs/index.pyx\u001b[0m in \u001b[0;36mpandas._libs.index.IndexEngine.get_loc\u001b[0;34m()\u001b[0m\n",
            "\u001b[0;32mpandas/_libs/index.pyx\u001b[0m in \u001b[0;36mpandas._libs.index.IndexEngine.get_loc\u001b[0;34m()\u001b[0m\n",
            "\u001b[0;31mTypeError\u001b[0m: '[101, 213, 322, 443, 557, 668, 786, 902, 1013, 1132, 1245, 1358, 1475, 1591, 1705, 1819, 1877, 1943, 2046, 2160, 2216, 2351, 2501, 2584, 2724, 2836, 2932, 3059, 3170, 3277, 3397, 3508, 3620, 3735, 3791, 3859, 3956, 4069, 4150, 4297, 4408, 4499, 4632, 4746, 4847, 4969, 5080, 5192, 5306, 5360, 5428, 5530, 5622, 5725, 5861, 5972, 6068, 6195, 6304, 6413, 6527, 6582, 6650, 6748, 6857, 6941, 7080, 7190, 7291, 7410, 7527, 7634, 7748, 7803, 7879, 7970, 8078, 8170, 8300, 8411, 8515, 8631, 8684, 8752, 8852, 8960, 9043, 9184, 9299, 9391, 9523, 9637, 9737, 9864, 9971, 10082, 10196, 10252, 10316, 10419, 10528, 10611, 10755, 10865, 10957, 11088, 11198, 11301, 11421, 11534, 11645, 11756, 11813, 11949, 12098, 12155, 12324, 12438, 12528, 12660, 12773, 12877, 12997, 13107, 13217, 13327, 13382, 13551, 13663, 13752, 13881, 13994, 14101, 14215, 14269, 14341, 14429, 14543, 14635, 14765, 14873, 14981, 15088, 15167, 15302, 15409, 15515, 15625, 15672, 15833, 15936, 16041, 16145, 16225, 16354, 16458, 16561, 16666, 16755, 16869, 16914, 17077, 17174, 17273, 17373, 17459, 17573, 17616, 17775, 17878, 17980, 18082, 18164, 18285, 18385, 18487, 18589, 18684, 18791, 18865, 18971, 19073, 19184]' is an invalid key",
            "\nDuring handling of the above exception, another exception occurred:\n",
            "\u001b[0;31mKeyError\u001b[0m                                  Traceback (most recent call last)",
            "\u001b[0;32m<ipython-input-23-f683e9d0966b>\u001b[0m in \u001b[0;36m<module>\u001b[0;34m\u001b[0m\n\u001b[1;32m      4\u001b[0m \u001b[0mprint\u001b[0m\u001b[0;34m(\u001b[0m\u001b[0mN\u001b[0m\u001b[0;34m)\u001b[0m\u001b[0;34m\u001b[0m\u001b[0;34m\u001b[0m\u001b[0m\n\u001b[1;32m      5\u001b[0m \u001b[0;32mfor\u001b[0m \u001b[0msig\u001b[0m \u001b[0;32min\u001b[0m \u001b[0mdf\u001b[0m\u001b[0;34m[\u001b[0m\u001b[0;34m'decoded_signal'\u001b[0m\u001b[0;34m]\u001b[0m\u001b[0;34m:\u001b[0m\u001b[0;34m\u001b[0m\u001b[0;34m\u001b[0m\u001b[0m\n\u001b[0;32m----> 6\u001b[0;31m     \u001b[0msig_parsed\u001b[0m \u001b[0;34m=\u001b[0m \u001b[0mgenerategraphs\u001b[0m\u001b[0;34m(\u001b[0m\u001b[0msig\u001b[0m\u001b[0;34m)\u001b[0m\u001b[0;34m\u001b[0m\u001b[0;34m\u001b[0m\u001b[0m\n\u001b[0m\u001b[1;32m      7\u001b[0m     \u001b[0msigs_para\u001b[0m\u001b[0;34m.\u001b[0m\u001b[0mappend\u001b[0m\u001b[0;34m(\u001b[0m\u001b[0msig_parsed\u001b[0m\u001b[0;34m)\u001b[0m\u001b[0;34m\u001b[0m\u001b[0;34m\u001b[0m\u001b[0m\n\u001b[1;32m      8\u001b[0m \u001b[0;34m\u001b[0m\u001b[0m\n",
            "\u001b[0;32m<ipython-input-20-8eeeb6a678e7>\u001b[0m in \u001b[0;36mgenerategraphs\u001b[0;34m(sig)\u001b[0m\n\u001b[1;32m      2\u001b[0m     \u001b[0;31m#interval related analysis\u001b[0m\u001b[0;34m\u001b[0m\u001b[0;34m\u001b[0m\u001b[0;34m\u001b[0m\u001b[0m\n\u001b[1;32m      3\u001b[0m     \u001b[0;31m# Process ecg\u001b[0m\u001b[0;34m\u001b[0m\u001b[0;34m\u001b[0m\u001b[0;34m\u001b[0m\u001b[0m\n\u001b[0;32m----> 4\u001b[0;31m     \u001b[0mecg_signals\u001b[0m\u001b[0;34m,\u001b[0m \u001b[0minfo\u001b[0m \u001b[0;34m=\u001b[0m \u001b[0mnk\u001b[0m\u001b[0;34m.\u001b[0m\u001b[0mecg_process\u001b[0m\u001b[0;34m(\u001b[0m\u001b[0msig\u001b[0m\u001b[0;34m,\u001b[0m \u001b[0msampling_rate\u001b[0m\u001b[0;34m=\u001b[0m\u001b[0;36m128\u001b[0m\u001b[0;34m)\u001b[0m\u001b[0;34m\u001b[0m\u001b[0;34m\u001b[0m\u001b[0m\n\u001b[0m\u001b[1;32m      5\u001b[0m     \u001b[0mprint\u001b[0m\u001b[0;34m(\u001b[0m\u001b[0mnk\u001b[0m\u001b[0;34m.\u001b[0m\u001b[0mecg_intervalrelated\u001b[0m\u001b[0;34m(\u001b[0m\u001b[0mecg_signals\u001b[0m\u001b[0;34m)\u001b[0m\u001b[0;34m)\u001b[0m\u001b[0;34m\u001b[0m\u001b[0;34m\u001b[0m\u001b[0m\n\u001b[1;32m      6\u001b[0m \u001b[0;34m\u001b[0m\u001b[0m\n",
            "\u001b[0;32m/anaconda/envs/azureml_py38/lib/python3.8/site-packages/neurokit2/ecg/ecg_process.py\u001b[0m in \u001b[0;36mecg_process\u001b[0;34m(ecg_signal, sampling_rate, method)\u001b[0m\n\u001b[1;32m    102\u001b[0m \u001b[0;34m\u001b[0m\u001b[0m\n\u001b[1;32m    103\u001b[0m     \u001b[0;31m# Additional info of the ecg signal\u001b[0m\u001b[0;34m\u001b[0m\u001b[0;34m\u001b[0m\u001b[0;34m\u001b[0m\u001b[0m\n\u001b[0;32m--> 104\u001b[0;31m     delineate_signal, delineate_info = ecg_delineate(\n\u001b[0m\u001b[1;32m    105\u001b[0m         \u001b[0mecg_cleaned\u001b[0m\u001b[0;34m=\u001b[0m\u001b[0mecg_cleaned\u001b[0m\u001b[0;34m,\u001b[0m \u001b[0mrpeaks\u001b[0m\u001b[0;34m=\u001b[0m\u001b[0mrpeaks\u001b[0m\u001b[0;34m,\u001b[0m \u001b[0msampling_rate\u001b[0m\u001b[0;34m=\u001b[0m\u001b[0msampling_rate\u001b[0m\u001b[0;34m\u001b[0m\u001b[0;34m\u001b[0m\u001b[0m\n\u001b[1;32m    106\u001b[0m     )\n",
            "\u001b[0;32m/anaconda/envs/azureml_py38/lib/python3.8/site-packages/neurokit2/ecg/ecg_delineate.py\u001b[0m in \u001b[0;36mecg_delineate\u001b[0;34m(ecg_cleaned, rpeaks, sampling_rate, method, show, show_type, check, **kwargs)\u001b[0m\n\u001b[1;32m    167\u001b[0m         \u001b[0mwaves_noNA\u001b[0m\u001b[0;34m[\u001b[0m\u001b[0mfeature\u001b[0m\u001b[0;34m]\u001b[0m \u001b[0;34m=\u001b[0m \u001b[0;34m[\u001b[0m\u001b[0mint\u001b[0m\u001b[0;34m(\u001b[0m\u001b[0mx\u001b[0m\u001b[0;34m)\u001b[0m \u001b[0;32mfor\u001b[0m \u001b[0mx\u001b[0m \u001b[0;32min\u001b[0m \u001b[0mwaves_noNA\u001b[0m\u001b[0;34m[\u001b[0m\u001b[0mfeature\u001b[0m\u001b[0;34m]\u001b[0m \u001b[0;32mif\u001b[0m \u001b[0;34m~\u001b[0m\u001b[0mnp\u001b[0m\u001b[0;34m.\u001b[0m\u001b[0misnan\u001b[0m\u001b[0;34m(\u001b[0m\u001b[0mx\u001b[0m\u001b[0;34m)\u001b[0m \u001b[0;32mand\u001b[0m \u001b[0mx\u001b[0m \u001b[0;34m>\u001b[0m \u001b[0;36m0\u001b[0m\u001b[0;34m]\u001b[0m\u001b[0;34m\u001b[0m\u001b[0;34m\u001b[0m\u001b[0m\n\u001b[1;32m    168\u001b[0m \u001b[0;34m\u001b[0m\u001b[0m\n\u001b[0;32m--> 169\u001b[0;31m     \u001b[0minstant_peaks\u001b[0m \u001b[0;34m=\u001b[0m \u001b[0msignal_formatpeaks\u001b[0m\u001b[0;34m(\u001b[0m\u001b[0mwaves_noNA\u001b[0m\u001b[0;34m,\u001b[0m \u001b[0mdesired_length\u001b[0m\u001b[0;34m=\u001b[0m\u001b[0mlen\u001b[0m\u001b[0;34m(\u001b[0m\u001b[0mecg_cleaned\u001b[0m\u001b[0;34m)\u001b[0m\u001b[0;34m)\u001b[0m\u001b[0;34m\u001b[0m\u001b[0;34m\u001b[0m\u001b[0m\n\u001b[0m\u001b[1;32m    170\u001b[0m     \u001b[0msignals\u001b[0m \u001b[0;34m=\u001b[0m \u001b[0minstant_peaks\u001b[0m\u001b[0;34m\u001b[0m\u001b[0;34m\u001b[0m\u001b[0m\n\u001b[1;32m    171\u001b[0m \u001b[0;34m\u001b[0m\u001b[0m\n",
            "\u001b[0;32m/anaconda/envs/azureml_py38/lib/python3.8/site-packages/neurokit2/signal/signal_formatpeaks.py\u001b[0m in \u001b[0;36msignal_formatpeaks\u001b[0;34m(info, desired_length, peak_indices, other_indices)\u001b[0m\n\u001b[1;32m     19\u001b[0m             \u001b[0mx\u001b[0m \u001b[0;32min\u001b[0m \u001b[0mstr\u001b[0m\u001b[0;34m(\u001b[0m\u001b[0mfeature\u001b[0m\u001b[0;34m)\u001b[0m \u001b[0;32mfor\u001b[0m \u001b[0mx\u001b[0m \u001b[0;32min\u001b[0m \u001b[0;34m[\u001b[0m\u001b[0;34m\"Peak\"\u001b[0m\u001b[0;34m,\u001b[0m \u001b[0;34m\"Onset\"\u001b[0m\u001b[0;34m,\u001b[0m \u001b[0;34m\"Offset\"\u001b[0m\u001b[0;34m,\u001b[0m \u001b[0;34m\"Trough\"\u001b[0m\u001b[0;34m,\u001b[0m \u001b[0;34m\"Recovery\"\u001b[0m\u001b[0;34m]\u001b[0m\u001b[0;34m\u001b[0m\u001b[0;34m\u001b[0m\u001b[0m\n\u001b[1;32m     20\u001b[0m         ):\n\u001b[0;32m---> 21\u001b[0;31m             \u001b[0msignals\u001b[0m\u001b[0;34m[\u001b[0m\u001b[0mfeature\u001b[0m\u001b[0;34m]\u001b[0m \u001b[0;34m=\u001b[0m \u001b[0m_signal_from_indices\u001b[0m\u001b[0;34m(\u001b[0m\u001b[0mvalues\u001b[0m\u001b[0;34m,\u001b[0m \u001b[0mdesired_length\u001b[0m\u001b[0;34m,\u001b[0m \u001b[0;36m1\u001b[0m\u001b[0;34m)\u001b[0m\u001b[0;34m\u001b[0m\u001b[0;34m\u001b[0m\u001b[0m\n\u001b[0m\u001b[1;32m     22\u001b[0m             \u001b[0msignals\u001b[0m\u001b[0;34m[\u001b[0m\u001b[0mfeature\u001b[0m\u001b[0;34m]\u001b[0m \u001b[0;34m=\u001b[0m \u001b[0msignals\u001b[0m\u001b[0;34m[\u001b[0m\u001b[0mfeature\u001b[0m\u001b[0;34m]\u001b[0m\u001b[0;34m.\u001b[0m\u001b[0mastype\u001b[0m\u001b[0;34m(\u001b[0m\u001b[0;34m\"int64\"\u001b[0m\u001b[0;34m)\u001b[0m  \u001b[0;31m# indexing of feature using 1 and 0\u001b[0m\u001b[0;34m\u001b[0m\u001b[0;34m\u001b[0m\u001b[0m\n\u001b[1;32m     23\u001b[0m \u001b[0;34m\u001b[0m\u001b[0m\n",
            "\u001b[0;32m/anaconda/envs/azureml_py38/lib/python3.8/site-packages/neurokit2/signal/signal_formatpeaks.py\u001b[0m in \u001b[0;36m_signal_from_indices\u001b[0;34m(indices, desired_length, value)\u001b[0m\n\u001b[1;32m     74\u001b[0m     \u001b[0;31m# Appending single value\u001b[0m\u001b[0;34m\u001b[0m\u001b[0;34m\u001b[0m\u001b[0;34m\u001b[0m\u001b[0m\n\u001b[1;32m     75\u001b[0m     \u001b[0;32mif\u001b[0m \u001b[0misinstance\u001b[0m\u001b[0;34m(\u001b[0m\u001b[0mvalue\u001b[0m\u001b[0;34m,\u001b[0m \u001b[0;34m(\u001b[0m\u001b[0mint\u001b[0m\u001b[0;34m,\u001b[0m \u001b[0mfloat\u001b[0m\u001b[0;34m)\u001b[0m\u001b[0;34m)\u001b[0m\u001b[0;34m:\u001b[0m\u001b[0;34m\u001b[0m\u001b[0;34m\u001b[0m\u001b[0m\n\u001b[0;32m---> 76\u001b[0;31m         \u001b[0msignal\u001b[0m\u001b[0;34m[\u001b[0m\u001b[0mindices\u001b[0m\u001b[0;34m]\u001b[0m \u001b[0;34m=\u001b[0m \u001b[0mvalue\u001b[0m\u001b[0;34m\u001b[0m\u001b[0;34m\u001b[0m\u001b[0m\n\u001b[0m\u001b[1;32m     77\u001b[0m     \u001b[0;31m# Appending multiple values\u001b[0m\u001b[0;34m\u001b[0m\u001b[0;34m\u001b[0m\u001b[0;34m\u001b[0m\u001b[0m\n\u001b[1;32m     78\u001b[0m     \u001b[0;32melif\u001b[0m \u001b[0misinstance\u001b[0m\u001b[0;34m(\u001b[0m\u001b[0mvalue\u001b[0m\u001b[0;34m,\u001b[0m \u001b[0;34m(\u001b[0m\u001b[0mnp\u001b[0m\u001b[0;34m.\u001b[0m\u001b[0mndarray\u001b[0m\u001b[0;34m,\u001b[0m \u001b[0mlist\u001b[0m\u001b[0;34m)\u001b[0m\u001b[0;34m)\u001b[0m\u001b[0;34m:\u001b[0m\u001b[0;34m\u001b[0m\u001b[0;34m\u001b[0m\u001b[0m\n",
            "\u001b[0;32m/anaconda/envs/azureml_py38/lib/python3.8/site-packages/pandas/core/series.py\u001b[0m in \u001b[0;36m__setitem__\u001b[0;34m(self, key, value)\u001b[0m\n\u001b[1;32m   1025\u001b[0m \u001b[0;34m\u001b[0m\u001b[0m\n\u001b[1;32m   1026\u001b[0m             \u001b[0;32melse\u001b[0m\u001b[0;34m:\u001b[0m\u001b[0;34m\u001b[0m\u001b[0;34m\u001b[0m\u001b[0m\n\u001b[0;32m-> 1027\u001b[0;31m                 \u001b[0mself\u001b[0m\u001b[0;34m.\u001b[0m\u001b[0m_set_with\u001b[0m\u001b[0;34m(\u001b[0m\u001b[0mkey\u001b[0m\u001b[0;34m,\u001b[0m \u001b[0mvalue\u001b[0m\u001b[0;34m)\u001b[0m\u001b[0;34m\u001b[0m\u001b[0;34m\u001b[0m\u001b[0m\n\u001b[0m\u001b[1;32m   1028\u001b[0m \u001b[0;34m\u001b[0m\u001b[0m\n\u001b[1;32m   1029\u001b[0m         \u001b[0;32mif\u001b[0m \u001b[0mcacher_needs_updating\u001b[0m\u001b[0;34m:\u001b[0m\u001b[0;34m\u001b[0m\u001b[0;34m\u001b[0m\u001b[0m\n",
            "\u001b[0;32m/anaconda/envs/azureml_py38/lib/python3.8/site-packages/pandas/core/series.py\u001b[0m in \u001b[0;36m_set_with\u001b[0;34m(self, key, value)\u001b[0m\n\u001b[1;32m   1058\u001b[0m             \u001b[0;32mif\u001b[0m \u001b[0mkey_type\u001b[0m \u001b[0;34m==\u001b[0m \u001b[0;34m\"integer\"\u001b[0m\u001b[0;34m:\u001b[0m\u001b[0;34m\u001b[0m\u001b[0;34m\u001b[0m\u001b[0m\n\u001b[1;32m   1059\u001b[0m                 \u001b[0;32mif\u001b[0m \u001b[0;32mnot\u001b[0m \u001b[0mself\u001b[0m\u001b[0;34m.\u001b[0m\u001b[0mindex\u001b[0m\u001b[0;34m.\u001b[0m\u001b[0m_should_fallback_to_positional\u001b[0m\u001b[0;34m(\u001b[0m\u001b[0;34m)\u001b[0m\u001b[0;34m:\u001b[0m\u001b[0;34m\u001b[0m\u001b[0;34m\u001b[0m\u001b[0m\n\u001b[0;32m-> 1060\u001b[0;31m                     \u001b[0mself\u001b[0m\u001b[0;34m.\u001b[0m\u001b[0m_set_labels\u001b[0m\u001b[0;34m(\u001b[0m\u001b[0mkey\u001b[0m\u001b[0;34m,\u001b[0m \u001b[0mvalue\u001b[0m\u001b[0;34m)\u001b[0m\u001b[0;34m\u001b[0m\u001b[0;34m\u001b[0m\u001b[0m\n\u001b[0m\u001b[1;32m   1061\u001b[0m                 \u001b[0;32melse\u001b[0m\u001b[0;34m:\u001b[0m\u001b[0;34m\u001b[0m\u001b[0;34m\u001b[0m\u001b[0m\n\u001b[1;32m   1062\u001b[0m                     \u001b[0mself\u001b[0m\u001b[0;34m.\u001b[0m\u001b[0m_set_values\u001b[0m\u001b[0;34m(\u001b[0m\u001b[0mkey\u001b[0m\u001b[0;34m,\u001b[0m \u001b[0mvalue\u001b[0m\u001b[0;34m)\u001b[0m\u001b[0;34m\u001b[0m\u001b[0;34m\u001b[0m\u001b[0m\n",
            "\u001b[0;32m/anaconda/envs/azureml_py38/lib/python3.8/site-packages/pandas/core/series.py\u001b[0m in \u001b[0;36m_set_labels\u001b[0;34m(self, key, value)\u001b[0m\n\u001b[1;32m   1069\u001b[0m         \u001b[0mmask\u001b[0m \u001b[0;34m=\u001b[0m \u001b[0mindexer\u001b[0m \u001b[0;34m==\u001b[0m \u001b[0;34m-\u001b[0m\u001b[0;36m1\u001b[0m\u001b[0;34m\u001b[0m\u001b[0;34m\u001b[0m\u001b[0m\n\u001b[1;32m   1070\u001b[0m         \u001b[0;32mif\u001b[0m \u001b[0mmask\u001b[0m\u001b[0;34m.\u001b[0m\u001b[0many\u001b[0m\u001b[0;34m(\u001b[0m\u001b[0;34m)\u001b[0m\u001b[0;34m:\u001b[0m\u001b[0;34m\u001b[0m\u001b[0;34m\u001b[0m\u001b[0m\n\u001b[0;32m-> 1071\u001b[0;31m             \u001b[0;32mraise\u001b[0m \u001b[0mKeyError\u001b[0m\u001b[0;34m(\u001b[0m\u001b[0;34mf\"{key[mask]} not in index\"\u001b[0m\u001b[0;34m)\u001b[0m\u001b[0;34m\u001b[0m\u001b[0;34m\u001b[0m\u001b[0m\n\u001b[0m\u001b[1;32m   1072\u001b[0m         \u001b[0mself\u001b[0m\u001b[0;34m.\u001b[0m\u001b[0m_set_values\u001b[0m\u001b[0;34m(\u001b[0m\u001b[0mindexer\u001b[0m\u001b[0;34m,\u001b[0m \u001b[0mvalue\u001b[0m\u001b[0;34m)\u001b[0m\u001b[0;34m\u001b[0m\u001b[0;34m\u001b[0m\u001b[0m\n\u001b[1;32m   1073\u001b[0m \u001b[0;34m\u001b[0m\u001b[0m\n",
            "\u001b[0;31mKeyError\u001b[0m: '[19184] not in index'"
          ]
        }
      ],
      "execution_count": 23,
      "metadata": {
        "jupyter": {
          "source_hidden": false,
          "outputs_hidden": false
        },
        "nteract": {
          "transient": {
            "deleting": false
          }
        },
        "gather": {
          "logged": 1653679176723
        }
      }
    },
    {
      "cell_type": "code",
      "source": [
        "df['decoded_signal'].iloc[7190]"
      ],
      "outputs": [
        {
          "output_type": "error",
          "ename": "NameError",
          "evalue": "name 'df' is not defined",
          "traceback": [
            "\u001b[0;31m---------------------------------------------------------------------------\u001b[0m",
            "\u001b[0;31mNameError\u001b[0m                                 Traceback (most recent call last)",
            "\u001b[0;32m<ipython-input-1-fa9c21f51492>\u001b[0m in \u001b[0;36m<module>\u001b[0;34m\u001b[0m\n\u001b[0;32m----> 1\u001b[0;31m \u001b[0mdf\u001b[0m\u001b[0;34m[\u001b[0m\u001b[0;34m'decoded_signal'\u001b[0m\u001b[0;34m]\u001b[0m\u001b[0;34m.\u001b[0m\u001b[0miloc\u001b[0m\u001b[0;34m[\u001b[0m\u001b[0;36m7190\u001b[0m\u001b[0;34m]\u001b[0m\u001b[0;34m\u001b[0m\u001b[0;34m\u001b[0m\u001b[0m\n\u001b[0m",
            "\u001b[0;31mNameError\u001b[0m: name 'df' is not defined"
          ]
        }
      ],
      "execution_count": 1,
      "metadata": {
        "jupyter": {
          "source_hidden": false,
          "outputs_hidden": false
        },
        "nteract": {
          "transient": {
            "deleting": false
          }
        },
        "gather": {
          "logged": 1653679176840
        }
      }
    },
    {
      "cell_type": "code",
      "source": [
        "import base64\r\n",
        "import numpy as np\r\n",
        "import pandas as pd\r\n",
        "import neurokit2 as nk\r\n",
        "import heartpy as hp\r\n",
        "import csv\r\n",
        "\r\n",
        "import tensorflow as tf\r\n",
        "from tensorflow.keras import datasets, layers, models\r\n",
        "import matplotlib.pyplot as plt\r\n",
        "import warnings\r\n",
        "warnings.filterwarnings('ignore')\r\n",
        "\r\n"
      ],
      "outputs": [],
      "execution_count": 14,
      "metadata": {
        "jupyter": {
          "source_hidden": false,
          "outputs_hidden": false
        },
        "nteract": {
          "transient": {
            "deleting": false
          }
        },
        "gather": {
          "logged": 1653361650478
        }
      }
    },
    {
      "cell_type": "code",
      "source": [
        "def classify(signal_o: np.ndarray) -> int:\r\n",
        "    # commenting this assrt out, it always breaks\r\n",
        "    assert type(signal_o) == np.ndarray, 'signal should be np.ndarray'\r\n",
        "    # params\r\n",
        "    padded_len = 200\r\n",
        "    beat_pairs = 40\r\n",
        "\r\n",
        "\r\n",
        "    df = pd.DataFrame({\"Signal\": [signal_o]})\r\n",
        "\r\n",
        " \r\n",
        "    \r\n",
        "    # create 'corrected' signal column with flipping function\r\n",
        "    # functionalize quantile method\r\n",
        "    # input should be the raw signal\r\n",
        "    def flip_correction(input_signal):\r\n",
        "        # first create baseline corrected and flip/baseline corrected\r\n",
        "        base_curve = hp.remove_baseline_wander(input_signal, sample_rate= 128)\r\n",
        "        base_flip = hp.flip_signal(input_signal, keep_range=True)\r\n",
        "        flipped = hp.remove_baseline_wander(base_flip, sample_rate= 128)\r\n",
        "    \r\n",
        "        # current metrics full trace, consider using partial\r\n",
        "        med_s = np.quantile(base_curve, .5)\r\n",
        "        q95_s = np.quantile(base_curve, .999)\r\n",
        "        q05_s = np.quantile(base_curve, .001)\r\n",
        "    \r\n",
        "        med_sf = np.quantile(flipped, .5)\r\n",
        "        q95_sf = np.quantile(flipped, .999)\r\n",
        "        q05_sf = np.quantile(flipped, .001)\r\n",
        "    \r\n",
        "        input_ratio = (q95_s-med_s)/(q95_s-q05_s) # percent pos peak from baseline (full range)\r\n",
        "        flip_ratio = (q95_sf-med_sf)/(q95_sf-q05_sf)\r\n",
        "        \r\n",
        "        if flip_ratio >= input_ratio:\r\n",
        "            input_signal = base_flip\r\n",
        "\r\n",
        "        return input_signal\r\n",
        "\r\n",
        "    df['Signal_flip'] = df['Signal'].apply(flip_correction)    \r\n",
        "\r\n",
        "\r\n",
        "    # optional truncate signal for epoch analysis\r\n",
        "    def signal_truncate(ecg_sig, max_len):\r\n",
        "        if len(ecg_sig) >= max_len:\r\n",
        "            ecg_sig = ecg_sig[0:max_len]\r\n",
        "        else:\r\n",
        "            ecg_sig=ecg_sig\r\n",
        "        return ecg_sig\r\n",
        "    \r\n",
        "    df['Signal_flip'] = df['Signal_flip'].apply(signal_truncate, max_len = 10000)\r\n",
        "\r\n",
        "\r\n",
        "    # creating baseline corrected feature as well (for peak RR stuff)\r\n",
        "    df['corrected_baseline'] = df['Signal_flip'].apply(hp.remove_baseline_wander, sample_rate= 128)\r\n",
        "\r\n",
        "    \r\n",
        "    # alternative R peak detection using nk2 (trying to beat ~15 minutes)    \r\n",
        "    def nk_peak_method(in_signal):\r\n",
        "        _, test_rr = nk.ecg_peaks(in_signal, sampling_rate=128)\r\n",
        "    \r\n",
        "        output = test_rr['ECG_R_Peaks']\r\n",
        "        return output\r\n",
        "    \r\n",
        "    df['NK_Peak'] = df['corrected_baseline'].apply(nk_peak_method)\r\n",
        "    \r\n",
        "        \r\n",
        "    # generate peak list for stacking\r\n",
        "    peak_buffer = 50 # buffer before first beat after second beat\r\n",
        "    \r\n",
        "    def truncated_beats(peaks):\r\n",
        "        # if peaks are under 10 beats, probably a failure of detection\r\n",
        "        # in that event just create index of 100's\r\n",
        "        if len(peaks) < 10:\r\n",
        "            peaks = np.array(range(100,10000,90 ))\r\n",
        "    \r\n",
        "        # eliminate last beat\r\n",
        "        peaks = peaks[0:(peaks.shape[0]-1)]\r\n",
        "    \r\n",
        "        # eliminate any index less than buffer\r\n",
        "        peaks = peaks[peaks > peak_buffer ]\r\n",
        "    \r\n",
        "        return peaks\r\n",
        "    \r\n",
        "    df['NK_Peak'] = df['NK_Peak'].apply(truncated_beats) \r\n",
        "\r\n",
        "\r\n",
        "    # standardize signal used for stack/image building\r\n",
        "    def ecg_std(ecg_in):\r\n",
        "        ecg_out = (ecg_in - ecg_in.mean()) / ecg_in.std()\r\n",
        "        return ecg_out\r\n",
        "    \r\n",
        "    # three options: flipped signal, raw signal, flip_baseline\r\n",
        "    df['signal_std'] = df['Signal_flip'].apply(ecg_std)\r\n",
        "    \r\n",
        "    \r\n",
        "    \r\n",
        "    # build all stacked arrays\r\n",
        "    num_signals = df.shape[0]\r\n",
        "    \r\n",
        "    full_pairs=np.empty([num_signals,padded_len, beat_pairs,1])\r\n",
        "    \r\n",
        "    def paired(start_1, stop_2, ecg_sig):\r\n",
        "        # for first trace get stacked\r\n",
        "        double_beat = ecg_sig[int(start_1):int(stop_2)]\r\n",
        "    \r\n",
        "        #double_beat = double_beat.to_numpy()\r\n",
        "        double_beat = np.pad(double_beat, (0, max(0,padded_len - double_beat.size)), 'constant')\r\n",
        "        #double_beat = double_beat.reshape((-1, 1))\r\n",
        "        \r\n",
        "        return double_beat\r\n",
        "    \r\n",
        "    def total_pairs(ecg_sig , peaks):\r\n",
        "        all_pairs=np.empty([padded_len, beat_pairs])\r\n",
        "\r\n",
        "    \r\n",
        "        for ii in range(0,beat_pairs):\r\n",
        "            if (ii+1) < len(peaks):\r\n",
        "                start_1 = peaks[ii] - peak_buffer\r\n",
        "                stop_2 = peaks[ii+1] + peak_buffer\r\n",
        "            elif (ii+1) < 2*len(peaks):\r\n",
        "                start_1 = peaks[ii-len(peaks)] - peak_buffer\r\n",
        "                stop_2 = peaks[ii+1-len(peaks)] + peak_buffer\r\n",
        "            elif (ii+1) < 3*len(peaks):\r\n",
        "                start_1 = peaks[ii-2*len(peaks)] - peak_buffer\r\n",
        "                stop_2 = peaks[ii+1-2*len(peaks)] + peak_buffer\r\n",
        "            else:\r\n",
        "                start_1 = peaks[ii-3*len(peaks)] - peak_buffer\r\n",
        "                stop_2 = peaks[ii+1-3*len(peaks)] + peak_buffer\r\n",
        "    \r\n",
        "            if (stop_2 - start_1) > padded_len:\r\n",
        "                stop_2 = start_1 + padded_len\r\n",
        "    \r\n",
        "            double_beat = paired(start_1=start_1,stop_2=stop_2, ecg_sig=ecg_sig)\r\n",
        "            all_pairs[:,ii] = double_beat\r\n",
        "            #all_pairs = np.concatenate((all_pairs, double_beat), axis=1)\r\n",
        "        \r\n",
        "        return all_pairs\r\n",
        "    \r\n",
        "    for kp in range(num_signals):\r\n",
        "        all_pairs = total_pairs(ecg_sig = df['signal_std'][kp],peaks = df['NK_Peak'][kp])\r\n",
        "        all_pairs = all_pairs[np.newaxis,...]\r\n",
        "        all_pairs = all_pairs[..., np.newaxis]\r\n",
        "        \r\n",
        "        full_pairs[kp,:,:,:] = all_pairs\r\n",
        "        #if kp == 0:\r\n",
        "        #    full_pairs = all_pairs   \r\n",
        "        #else:\r\n",
        "        #    full_pairs = np.concatenate((full_pairs,all_pairs),axis=0)\r\n",
        "    x_test = full_pairs\r\n",
        "  "
      ],
      "outputs": [],
      "execution_count": null,
      "metadata": {
        "jupyter": {
          "source_hidden": false,
          "outputs_hidden": false
        },
        "nteract": {
          "transient": {
            "deleting": false
          }
        }
      }
    },
    {
      "cell_type": "code",
      "source": [
        " df = pd.DataFrame({\"Signal\": [df['decoded_signal']]})"
      ],
      "outputs": [
        {
          "output_type": "error",
          "ename": "KeyError",
          "evalue": "'decoded_signal'",
          "traceback": [
            "\u001b[0;31m---------------------------------------------------------------------------\u001b[0m",
            "\u001b[0;31mKeyError\u001b[0m                                  Traceback (most recent call last)",
            "\u001b[0;32m/anaconda/envs/azureml_py38/lib/python3.8/site-packages/pandas/core/indexes/base.py\u001b[0m in \u001b[0;36mget_loc\u001b[0;34m(self, key, method, tolerance)\u001b[0m\n\u001b[1;32m   2897\u001b[0m             \u001b[0;32mtry\u001b[0m\u001b[0;34m:\u001b[0m\u001b[0;34m\u001b[0m\u001b[0;34m\u001b[0m\u001b[0m\n\u001b[0;32m-> 2898\u001b[0;31m                 \u001b[0;32mreturn\u001b[0m \u001b[0mself\u001b[0m\u001b[0;34m.\u001b[0m\u001b[0m_engine\u001b[0m\u001b[0;34m.\u001b[0m\u001b[0mget_loc\u001b[0m\u001b[0;34m(\u001b[0m\u001b[0mcasted_key\u001b[0m\u001b[0;34m)\u001b[0m\u001b[0;34m\u001b[0m\u001b[0;34m\u001b[0m\u001b[0m\n\u001b[0m\u001b[1;32m   2899\u001b[0m             \u001b[0;32mexcept\u001b[0m \u001b[0mKeyError\u001b[0m \u001b[0;32mas\u001b[0m \u001b[0merr\u001b[0m\u001b[0;34m:\u001b[0m\u001b[0;34m\u001b[0m\u001b[0;34m\u001b[0m\u001b[0m\n",
            "\u001b[0;32mpandas/_libs/index.pyx\u001b[0m in \u001b[0;36mpandas._libs.index.IndexEngine.get_loc\u001b[0;34m()\u001b[0m\n",
            "\u001b[0;32mpandas/_libs/index.pyx\u001b[0m in \u001b[0;36mpandas._libs.index.IndexEngine.get_loc\u001b[0;34m()\u001b[0m\n",
            "\u001b[0;32mpandas/_libs/hashtable_class_helper.pxi\u001b[0m in \u001b[0;36mpandas._libs.hashtable.PyObjectHashTable.get_item\u001b[0;34m()\u001b[0m\n",
            "\u001b[0;32mpandas/_libs/hashtable_class_helper.pxi\u001b[0m in \u001b[0;36mpandas._libs.hashtable.PyObjectHashTable.get_item\u001b[0;34m()\u001b[0m\n",
            "\u001b[0;31mKeyError\u001b[0m: 'decoded_signal'",
            "\nThe above exception was the direct cause of the following exception:\n",
            "\u001b[0;31mKeyError\u001b[0m                                  Traceback (most recent call last)",
            "\u001b[0;32m<ipython-input-17-5f97c84b746d>\u001b[0m in \u001b[0;36m<module>\u001b[0;34m\u001b[0m\n\u001b[0;32m----> 1\u001b[0;31m \u001b[0mdf\u001b[0m \u001b[0;34m=\u001b[0m \u001b[0mpd\u001b[0m\u001b[0;34m.\u001b[0m\u001b[0mDataFrame\u001b[0m\u001b[0;34m(\u001b[0m\u001b[0;34m{\u001b[0m\u001b[0;34m\"Signal\"\u001b[0m\u001b[0;34m:\u001b[0m \u001b[0;34m[\u001b[0m\u001b[0mdf\u001b[0m\u001b[0;34m[\u001b[0m\u001b[0;34m'decoded_signal'\u001b[0m\u001b[0;34m]\u001b[0m\u001b[0;34m]\u001b[0m\u001b[0;34m}\u001b[0m\u001b[0;34m)\u001b[0m\u001b[0;34m\u001b[0m\u001b[0;34m\u001b[0m\u001b[0m\n\u001b[0m",
            "\u001b[0;32m/anaconda/envs/azureml_py38/lib/python3.8/site-packages/pandas/core/frame.py\u001b[0m in \u001b[0;36m__getitem__\u001b[0;34m(self, key)\u001b[0m\n\u001b[1;32m   2904\u001b[0m             \u001b[0;32mif\u001b[0m \u001b[0mself\u001b[0m\u001b[0;34m.\u001b[0m\u001b[0mcolumns\u001b[0m\u001b[0;34m.\u001b[0m\u001b[0mnlevels\u001b[0m \u001b[0;34m>\u001b[0m \u001b[0;36m1\u001b[0m\u001b[0;34m:\u001b[0m\u001b[0;34m\u001b[0m\u001b[0;34m\u001b[0m\u001b[0m\n\u001b[1;32m   2905\u001b[0m                 \u001b[0;32mreturn\u001b[0m \u001b[0mself\u001b[0m\u001b[0;34m.\u001b[0m\u001b[0m_getitem_multilevel\u001b[0m\u001b[0;34m(\u001b[0m\u001b[0mkey\u001b[0m\u001b[0;34m)\u001b[0m\u001b[0;34m\u001b[0m\u001b[0;34m\u001b[0m\u001b[0m\n\u001b[0;32m-> 2906\u001b[0;31m             \u001b[0mindexer\u001b[0m \u001b[0;34m=\u001b[0m \u001b[0mself\u001b[0m\u001b[0;34m.\u001b[0m\u001b[0mcolumns\u001b[0m\u001b[0;34m.\u001b[0m\u001b[0mget_loc\u001b[0m\u001b[0;34m(\u001b[0m\u001b[0mkey\u001b[0m\u001b[0;34m)\u001b[0m\u001b[0;34m\u001b[0m\u001b[0;34m\u001b[0m\u001b[0m\n\u001b[0m\u001b[1;32m   2907\u001b[0m             \u001b[0;32mif\u001b[0m \u001b[0mis_integer\u001b[0m\u001b[0;34m(\u001b[0m\u001b[0mindexer\u001b[0m\u001b[0;34m)\u001b[0m\u001b[0;34m:\u001b[0m\u001b[0;34m\u001b[0m\u001b[0;34m\u001b[0m\u001b[0m\n\u001b[1;32m   2908\u001b[0m                 \u001b[0mindexer\u001b[0m \u001b[0;34m=\u001b[0m \u001b[0;34m[\u001b[0m\u001b[0mindexer\u001b[0m\u001b[0;34m]\u001b[0m\u001b[0;34m\u001b[0m\u001b[0;34m\u001b[0m\u001b[0m\n",
            "\u001b[0;32m/anaconda/envs/azureml_py38/lib/python3.8/site-packages/pandas/core/indexes/base.py\u001b[0m in \u001b[0;36mget_loc\u001b[0;34m(self, key, method, tolerance)\u001b[0m\n\u001b[1;32m   2898\u001b[0m                 \u001b[0;32mreturn\u001b[0m \u001b[0mself\u001b[0m\u001b[0;34m.\u001b[0m\u001b[0m_engine\u001b[0m\u001b[0;34m.\u001b[0m\u001b[0mget_loc\u001b[0m\u001b[0;34m(\u001b[0m\u001b[0mcasted_key\u001b[0m\u001b[0;34m)\u001b[0m\u001b[0;34m\u001b[0m\u001b[0;34m\u001b[0m\u001b[0m\n\u001b[1;32m   2899\u001b[0m             \u001b[0;32mexcept\u001b[0m \u001b[0mKeyError\u001b[0m \u001b[0;32mas\u001b[0m \u001b[0merr\u001b[0m\u001b[0;34m:\u001b[0m\u001b[0;34m\u001b[0m\u001b[0;34m\u001b[0m\u001b[0m\n\u001b[0;32m-> 2900\u001b[0;31m                 \u001b[0;32mraise\u001b[0m \u001b[0mKeyError\u001b[0m\u001b[0;34m(\u001b[0m\u001b[0mkey\u001b[0m\u001b[0;34m)\u001b[0m \u001b[0;32mfrom\u001b[0m \u001b[0merr\u001b[0m\u001b[0;34m\u001b[0m\u001b[0;34m\u001b[0m\u001b[0m\n\u001b[0m\u001b[1;32m   2901\u001b[0m \u001b[0;34m\u001b[0m\u001b[0m\n\u001b[1;32m   2902\u001b[0m         \u001b[0;32mif\u001b[0m \u001b[0mtolerance\u001b[0m \u001b[0;32mis\u001b[0m \u001b[0;32mnot\u001b[0m \u001b[0;32mNone\u001b[0m\u001b[0;34m:\u001b[0m\u001b[0;34m\u001b[0m\u001b[0;34m\u001b[0m\u001b[0m\n",
            "\u001b[0;31mKeyError\u001b[0m: 'decoded_signal'"
          ]
        }
      ],
      "execution_count": 17,
      "metadata": {
        "jupyter": {
          "source_hidden": false,
          "outputs_hidden": false
        },
        "nteract": {
          "transient": {
            "deleting": false
          }
        },
        "gather": {
          "logged": 1653679177265
        }
      }
    },
    {
      "cell_type": "code",
      "source": [
        "def flip_correction(input_signal):\r\n",
        "    # first create baseline corrected and flip/baseline corrected\r\n",
        "    base_curve = hp.remove_baseline_wander(input_signal, sample_rate= 128)\r\n",
        "    print(base_curve)\r\n",
        "    base_flip = hp.flip_signal(input_signal, keep_range=True)\r\n",
        "    flipped = hp.remove_baseline_wander(base_flip, sample_rate= 128)\r\n",
        "\r\n",
        "    # current metrics full trace, consider using partial\r\n",
        "    med_s = np.quantile(base_curve, .5)\r\n",
        "    q95_s = np.quantile(base_curve, .999)\r\n",
        "    q05_s = np.quantile(base_curve, .001)\r\n",
        "\r\n",
        "    med_sf = np.quantile(flipped, .5)\r\n",
        "    q95_sf = np.quantile(flipped, .999)\r\n",
        "    q05_sf = np.quantile(flipped, .001)\r\n",
        "\r\n",
        "    input_ratio = (q95_s-med_s)/(q95_s-q05_s) # percent pos peak from baseline (full range)\r\n",
        "    flip_ratio = (q95_sf-med_sf)/(q95_sf-q05_sf)\r\n",
        "    \r\n",
        "    if flip_ratio >= input_ratio:\r\n",
        "        input_signal = base_flip\r\n",
        "\r\n",
        "    return input_signal\r\n",
        "\r\n",
        "df['Signal_flip'] = df['Signal'].apply(flip_correction)   "
      ],
      "outputs": [
        {
          "output_type": "stream",
          "name": "stdout",
          "text": "[array([ 1.1128546e+02, -8.0565338e+01, -1.4459399e+02, ...,\n         2.3629427e-02,  4.7909617e-01,  1.9705868e+00], dtype=float32)\n array([ 75.319176 , -35.316803 , -73.752    , ...,  -0.6543741,\n          3.4069438,  35.58847  ], dtype=float32)\n array([  83.08392 ,  -59.02338 , -107.696625, ...,  -10.049489,\n         -11.021132,  -15.688009], dtype=float32)                ...\n array([ 112.100044 ,  -68.28644  , -133.14758  , ...,    3.080871 ,\n           3.430785 ,    5.9378405], dtype=float32)\n array([  63.48329 , -142.36777 , -164.00609 , ...,    9.789428,\n          10.873001,    9.760797], dtype=float32)\n array([ 107.608925  ,  -74.5631    , -135.32785   , ...,    0.77655315,\n           0.75792027,    1.8422608 ], dtype=float32)                   ]\n"
        },
        {
          "output_type": "error",
          "ename": "ValueError",
          "evalue": "The truth value of an array with more than one element is ambiguous. Use a.any() or a.all()",
          "traceback": [
            "\u001b[0;31m---------------------------------------------------------------------------\u001b[0m",
            "\u001b[0;31mValueError\u001b[0m                                Traceback (most recent call last)",
            "\u001b[0;32m<ipython-input-20-6114dda85453>\u001b[0m in \u001b[0;36m<module>\u001b[0;34m\u001b[0m\n\u001b[1;32m     23\u001b[0m     \u001b[0;32mreturn\u001b[0m \u001b[0minput_signal\u001b[0m\u001b[0;34m\u001b[0m\u001b[0;34m\u001b[0m\u001b[0m\n\u001b[1;32m     24\u001b[0m \u001b[0;34m\u001b[0m\u001b[0m\n\u001b[0;32m---> 25\u001b[0;31m \u001b[0mdf\u001b[0m\u001b[0;34m[\u001b[0m\u001b[0;34m'Signal_flip'\u001b[0m\u001b[0;34m]\u001b[0m \u001b[0;34m=\u001b[0m \u001b[0mdf\u001b[0m\u001b[0;34m[\u001b[0m\u001b[0;34m'Signal'\u001b[0m\u001b[0;34m]\u001b[0m\u001b[0;34m.\u001b[0m\u001b[0mapply\u001b[0m\u001b[0;34m(\u001b[0m\u001b[0mflip_correction\u001b[0m\u001b[0;34m)\u001b[0m\u001b[0;34m\u001b[0m\u001b[0;34m\u001b[0m\u001b[0m\n\u001b[0m",
            "\u001b[0;32m/anaconda/envs/azureml_py38/lib/python3.8/site-packages/pandas/core/series.py\u001b[0m in \u001b[0;36mapply\u001b[0;34m(self, func, convert_dtype, args, **kwds)\u001b[0m\n\u001b[1;32m   4211\u001b[0m             \u001b[0;32melse\u001b[0m\u001b[0;34m:\u001b[0m\u001b[0;34m\u001b[0m\u001b[0;34m\u001b[0m\u001b[0m\n\u001b[1;32m   4212\u001b[0m                 \u001b[0mvalues\u001b[0m \u001b[0;34m=\u001b[0m \u001b[0mself\u001b[0m\u001b[0;34m.\u001b[0m\u001b[0mastype\u001b[0m\u001b[0;34m(\u001b[0m\u001b[0mobject\u001b[0m\u001b[0;34m)\u001b[0m\u001b[0;34m.\u001b[0m\u001b[0m_values\u001b[0m\u001b[0;34m\u001b[0m\u001b[0;34m\u001b[0m\u001b[0m\n\u001b[0;32m-> 4213\u001b[0;31m                 \u001b[0mmapped\u001b[0m \u001b[0;34m=\u001b[0m \u001b[0mlib\u001b[0m\u001b[0;34m.\u001b[0m\u001b[0mmap_infer\u001b[0m\u001b[0;34m(\u001b[0m\u001b[0mvalues\u001b[0m\u001b[0;34m,\u001b[0m \u001b[0mf\u001b[0m\u001b[0;34m,\u001b[0m \u001b[0mconvert\u001b[0m\u001b[0;34m=\u001b[0m\u001b[0mconvert_dtype\u001b[0m\u001b[0;34m)\u001b[0m\u001b[0;34m\u001b[0m\u001b[0;34m\u001b[0m\u001b[0m\n\u001b[0m\u001b[1;32m   4214\u001b[0m \u001b[0;34m\u001b[0m\u001b[0m\n\u001b[1;32m   4215\u001b[0m         \u001b[0;32mif\u001b[0m \u001b[0mlen\u001b[0m\u001b[0;34m(\u001b[0m\u001b[0mmapped\u001b[0m\u001b[0;34m)\u001b[0m \u001b[0;32mand\u001b[0m \u001b[0misinstance\u001b[0m\u001b[0;34m(\u001b[0m\u001b[0mmapped\u001b[0m\u001b[0;34m[\u001b[0m\u001b[0;36m0\u001b[0m\u001b[0;34m]\u001b[0m\u001b[0;34m,\u001b[0m \u001b[0mSeries\u001b[0m\u001b[0;34m)\u001b[0m\u001b[0;34m:\u001b[0m\u001b[0;34m\u001b[0m\u001b[0;34m\u001b[0m\u001b[0m\n",
            "\u001b[0;32mpandas/_libs/lib.pyx\u001b[0m in \u001b[0;36mpandas._libs.lib.map_infer\u001b[0;34m()\u001b[0m\n",
            "\u001b[0;32m<ipython-input-20-6114dda85453>\u001b[0m in \u001b[0;36mflip_correction\u001b[0;34m(input_signal)\u001b[0m\n\u001b[1;32m      3\u001b[0m     \u001b[0mbase_curve\u001b[0m \u001b[0;34m=\u001b[0m \u001b[0mhp\u001b[0m\u001b[0;34m.\u001b[0m\u001b[0mremove_baseline_wander\u001b[0m\u001b[0;34m(\u001b[0m\u001b[0minput_signal\u001b[0m\u001b[0;34m,\u001b[0m \u001b[0msample_rate\u001b[0m\u001b[0;34m=\u001b[0m \u001b[0;36m128\u001b[0m\u001b[0;34m)\u001b[0m\u001b[0;34m\u001b[0m\u001b[0;34m\u001b[0m\u001b[0m\n\u001b[1;32m      4\u001b[0m     \u001b[0mprint\u001b[0m\u001b[0;34m(\u001b[0m\u001b[0mbase_curve\u001b[0m\u001b[0;34m)\u001b[0m\u001b[0;34m\u001b[0m\u001b[0;34m\u001b[0m\u001b[0m\n\u001b[0;32m----> 5\u001b[0;31m     \u001b[0mbase_flip\u001b[0m \u001b[0;34m=\u001b[0m \u001b[0mhp\u001b[0m\u001b[0;34m.\u001b[0m\u001b[0mflip_signal\u001b[0m\u001b[0;34m(\u001b[0m\u001b[0minput_signal\u001b[0m\u001b[0;34m,\u001b[0m \u001b[0mkeep_range\u001b[0m\u001b[0;34m=\u001b[0m\u001b[0;32mTrue\u001b[0m\u001b[0;34m)\u001b[0m\u001b[0;34m\u001b[0m\u001b[0;34m\u001b[0m\u001b[0m\n\u001b[0m\u001b[1;32m      6\u001b[0m     \u001b[0mflipped\u001b[0m \u001b[0;34m=\u001b[0m \u001b[0mhp\u001b[0m\u001b[0;34m.\u001b[0m\u001b[0mremove_baseline_wander\u001b[0m\u001b[0;34m(\u001b[0m\u001b[0mbase_flip\u001b[0m\u001b[0;34m,\u001b[0m \u001b[0msample_rate\u001b[0m\u001b[0;34m=\u001b[0m \u001b[0;36m128\u001b[0m\u001b[0;34m)\u001b[0m\u001b[0;34m\u001b[0m\u001b[0;34m\u001b[0m\u001b[0m\n\u001b[1;32m      7\u001b[0m \u001b[0;34m\u001b[0m\u001b[0m\n",
            "\u001b[0;32m/anaconda/envs/azureml_py38/lib/python3.8/site-packages/heartpy/preprocessing.py\u001b[0m in \u001b[0;36mflip_signal\u001b[0;34m(data, enhancepeaks, keep_range)\u001b[0m\n\u001b[1;32m    317\u001b[0m     '''\n\u001b[1;32m    318\u001b[0m     \u001b[0mdata_mean\u001b[0m \u001b[0;34m=\u001b[0m \u001b[0mnp\u001b[0m\u001b[0;34m.\u001b[0m\u001b[0mmean\u001b[0m\u001b[0;34m(\u001b[0m\u001b[0mdata\u001b[0m\u001b[0;34m)\u001b[0m\u001b[0;34m\u001b[0m\u001b[0;34m\u001b[0m\u001b[0m\n\u001b[0;32m--> 319\u001b[0;31m     \u001b[0mdata_min\u001b[0m \u001b[0;34m=\u001b[0m \u001b[0mnp\u001b[0m\u001b[0;34m.\u001b[0m\u001b[0mmin\u001b[0m\u001b[0;34m(\u001b[0m\u001b[0mdata\u001b[0m\u001b[0;34m)\u001b[0m\u001b[0;34m\u001b[0m\u001b[0;34m\u001b[0m\u001b[0m\n\u001b[0m\u001b[1;32m    320\u001b[0m     \u001b[0mdata_max\u001b[0m \u001b[0;34m=\u001b[0m \u001b[0mnp\u001b[0m\u001b[0;34m.\u001b[0m\u001b[0mmax\u001b[0m\u001b[0;34m(\u001b[0m\u001b[0mdata\u001b[0m\u001b[0;34m)\u001b[0m\u001b[0;34m\u001b[0m\u001b[0;34m\u001b[0m\u001b[0m\n\u001b[1;32m    321\u001b[0m \u001b[0;34m\u001b[0m\u001b[0m\n",
            "\u001b[0;32m/anaconda/envs/azureml_py38/lib/python3.8/site-packages/numpy/core/overrides.py\u001b[0m in \u001b[0;36mamin\u001b[0;34m(*args, **kwargs)\u001b[0m\n",
            "\u001b[0;32m/anaconda/envs/azureml_py38/lib/python3.8/site-packages/numpy/core/fromnumeric.py\u001b[0m in \u001b[0;36mamin\u001b[0;34m(a, axis, out, keepdims, initial, where)\u001b[0m\n\u001b[1;32m   2914\u001b[0m     \u001b[0;36m6\u001b[0m\u001b[0;34m\u001b[0m\u001b[0;34m\u001b[0m\u001b[0m\n\u001b[1;32m   2915\u001b[0m     \"\"\"\n\u001b[0;32m-> 2916\u001b[0;31m     return _wrapreduction(a, np.minimum, 'min', axis, None, out,\n\u001b[0m\u001b[1;32m   2917\u001b[0m                           keepdims=keepdims, initial=initial, where=where)\n\u001b[1;32m   2918\u001b[0m \u001b[0;34m\u001b[0m\u001b[0m\n",
            "\u001b[0;32m/anaconda/envs/azureml_py38/lib/python3.8/site-packages/numpy/core/fromnumeric.py\u001b[0m in \u001b[0;36m_wrapreduction\u001b[0;34m(obj, ufunc, method, axis, dtype, out, **kwargs)\u001b[0m\n\u001b[1;32m     82\u001b[0m                 \u001b[0;32mreturn\u001b[0m \u001b[0mreduction\u001b[0m\u001b[0;34m(\u001b[0m\u001b[0maxis\u001b[0m\u001b[0;34m=\u001b[0m\u001b[0maxis\u001b[0m\u001b[0;34m,\u001b[0m \u001b[0mdtype\u001b[0m\u001b[0;34m=\u001b[0m\u001b[0mdtype\u001b[0m\u001b[0;34m,\u001b[0m \u001b[0mout\u001b[0m\u001b[0;34m=\u001b[0m\u001b[0mout\u001b[0m\u001b[0;34m,\u001b[0m \u001b[0;34m**\u001b[0m\u001b[0mpasskwargs\u001b[0m\u001b[0;34m)\u001b[0m\u001b[0;34m\u001b[0m\u001b[0;34m\u001b[0m\u001b[0m\n\u001b[1;32m     83\u001b[0m             \u001b[0;32melse\u001b[0m\u001b[0;34m:\u001b[0m\u001b[0;34m\u001b[0m\u001b[0;34m\u001b[0m\u001b[0m\n\u001b[0;32m---> 84\u001b[0;31m                 \u001b[0;32mreturn\u001b[0m \u001b[0mreduction\u001b[0m\u001b[0;34m(\u001b[0m\u001b[0maxis\u001b[0m\u001b[0;34m=\u001b[0m\u001b[0maxis\u001b[0m\u001b[0;34m,\u001b[0m \u001b[0mout\u001b[0m\u001b[0;34m=\u001b[0m\u001b[0mout\u001b[0m\u001b[0;34m,\u001b[0m \u001b[0;34m**\u001b[0m\u001b[0mpasskwargs\u001b[0m\u001b[0;34m)\u001b[0m\u001b[0;34m\u001b[0m\u001b[0;34m\u001b[0m\u001b[0m\n\u001b[0m\u001b[1;32m     85\u001b[0m \u001b[0;34m\u001b[0m\u001b[0m\n\u001b[1;32m     86\u001b[0m     \u001b[0;32mreturn\u001b[0m \u001b[0mufunc\u001b[0m\u001b[0;34m.\u001b[0m\u001b[0mreduce\u001b[0m\u001b[0;34m(\u001b[0m\u001b[0mobj\u001b[0m\u001b[0;34m,\u001b[0m \u001b[0maxis\u001b[0m\u001b[0;34m,\u001b[0m \u001b[0mdtype\u001b[0m\u001b[0;34m,\u001b[0m \u001b[0mout\u001b[0m\u001b[0;34m,\u001b[0m \u001b[0;34m**\u001b[0m\u001b[0mpasskwargs\u001b[0m\u001b[0;34m)\u001b[0m\u001b[0;34m\u001b[0m\u001b[0;34m\u001b[0m\u001b[0m\n",
            "\u001b[0;32m/anaconda/envs/azureml_py38/lib/python3.8/site-packages/pandas/core/generic.py\u001b[0m in \u001b[0;36mstat_func\u001b[0;34m(self, axis, skipna, level, numeric_only, **kwargs)\u001b[0m\n\u001b[1;32m  11472\u001b[0m         \u001b[0;32mif\u001b[0m \u001b[0mlevel\u001b[0m \u001b[0;32mis\u001b[0m \u001b[0;32mnot\u001b[0m \u001b[0;32mNone\u001b[0m\u001b[0;34m:\u001b[0m\u001b[0;34m\u001b[0m\u001b[0;34m\u001b[0m\u001b[0m\n\u001b[1;32m  11473\u001b[0m             \u001b[0;32mreturn\u001b[0m \u001b[0mself\u001b[0m\u001b[0;34m.\u001b[0m\u001b[0m_agg_by_level\u001b[0m\u001b[0;34m(\u001b[0m\u001b[0mname\u001b[0m\u001b[0;34m,\u001b[0m \u001b[0maxis\u001b[0m\u001b[0;34m=\u001b[0m\u001b[0maxis\u001b[0m\u001b[0;34m,\u001b[0m \u001b[0mlevel\u001b[0m\u001b[0;34m=\u001b[0m\u001b[0mlevel\u001b[0m\u001b[0;34m,\u001b[0m \u001b[0mskipna\u001b[0m\u001b[0;34m=\u001b[0m\u001b[0mskipna\u001b[0m\u001b[0;34m)\u001b[0m\u001b[0;34m\u001b[0m\u001b[0;34m\u001b[0m\u001b[0m\n\u001b[0;32m> 11474\u001b[0;31m         return self._reduce(\n\u001b[0m\u001b[1;32m  11475\u001b[0m             \u001b[0mfunc\u001b[0m\u001b[0;34m,\u001b[0m \u001b[0mname\u001b[0m\u001b[0;34m=\u001b[0m\u001b[0mname\u001b[0m\u001b[0;34m,\u001b[0m \u001b[0maxis\u001b[0m\u001b[0;34m=\u001b[0m\u001b[0maxis\u001b[0m\u001b[0;34m,\u001b[0m \u001b[0mskipna\u001b[0m\u001b[0;34m=\u001b[0m\u001b[0mskipna\u001b[0m\u001b[0;34m,\u001b[0m \u001b[0mnumeric_only\u001b[0m\u001b[0;34m=\u001b[0m\u001b[0mnumeric_only\u001b[0m\u001b[0;34m\u001b[0m\u001b[0;34m\u001b[0m\u001b[0m\n\u001b[1;32m  11476\u001b[0m         )\n",
            "\u001b[0;32m/anaconda/envs/azureml_py38/lib/python3.8/site-packages/pandas/core/series.py\u001b[0m in \u001b[0;36m_reduce\u001b[0;34m(self, op, name, axis, skipna, numeric_only, filter_type, **kwds)\u001b[0m\n\u001b[1;32m   4247\u001b[0m                 )\n\u001b[1;32m   4248\u001b[0m             \u001b[0;32mwith\u001b[0m \u001b[0mnp\u001b[0m\u001b[0;34m.\u001b[0m\u001b[0merrstate\u001b[0m\u001b[0;34m(\u001b[0m\u001b[0mall\u001b[0m\u001b[0;34m=\u001b[0m\u001b[0;34m\"ignore\"\u001b[0m\u001b[0;34m)\u001b[0m\u001b[0;34m:\u001b[0m\u001b[0;34m\u001b[0m\u001b[0;34m\u001b[0m\u001b[0m\n\u001b[0;32m-> 4249\u001b[0;31m                 \u001b[0;32mreturn\u001b[0m \u001b[0mop\u001b[0m\u001b[0;34m(\u001b[0m\u001b[0mdelegate\u001b[0m\u001b[0;34m,\u001b[0m \u001b[0mskipna\u001b[0m\u001b[0;34m=\u001b[0m\u001b[0mskipna\u001b[0m\u001b[0;34m,\u001b[0m \u001b[0;34m**\u001b[0m\u001b[0mkwds\u001b[0m\u001b[0;34m)\u001b[0m\u001b[0;34m\u001b[0m\u001b[0;34m\u001b[0m\u001b[0m\n\u001b[0m\u001b[1;32m   4250\u001b[0m \u001b[0;34m\u001b[0m\u001b[0m\n\u001b[1;32m   4251\u001b[0m     \u001b[0;32mdef\u001b[0m \u001b[0m_reindex_indexer\u001b[0m\u001b[0;34m(\u001b[0m\u001b[0mself\u001b[0m\u001b[0;34m,\u001b[0m \u001b[0mnew_index\u001b[0m\u001b[0;34m,\u001b[0m \u001b[0mindexer\u001b[0m\u001b[0;34m,\u001b[0m \u001b[0mcopy\u001b[0m\u001b[0;34m)\u001b[0m\u001b[0;34m:\u001b[0m\u001b[0;34m\u001b[0m\u001b[0;34m\u001b[0m\u001b[0m\n",
            "\u001b[0;32m/anaconda/envs/azureml_py38/lib/python3.8/site-packages/pandas/core/nanops.py\u001b[0m in \u001b[0;36mf\u001b[0;34m(values, axis, skipna, **kwds)\u001b[0m\n\u001b[1;32m    127\u001b[0m                     \u001b[0mresult\u001b[0m \u001b[0;34m=\u001b[0m \u001b[0malt\u001b[0m\u001b[0;34m(\u001b[0m\u001b[0mvalues\u001b[0m\u001b[0;34m,\u001b[0m \u001b[0maxis\u001b[0m\u001b[0;34m=\u001b[0m\u001b[0maxis\u001b[0m\u001b[0;34m,\u001b[0m \u001b[0mskipna\u001b[0m\u001b[0;34m=\u001b[0m\u001b[0mskipna\u001b[0m\u001b[0;34m,\u001b[0m \u001b[0;34m**\u001b[0m\u001b[0mkwds\u001b[0m\u001b[0;34m)\u001b[0m\u001b[0;34m\u001b[0m\u001b[0;34m\u001b[0m\u001b[0m\n\u001b[1;32m    128\u001b[0m             \u001b[0;32melse\u001b[0m\u001b[0;34m:\u001b[0m\u001b[0;34m\u001b[0m\u001b[0;34m\u001b[0m\u001b[0m\n\u001b[0;32m--> 129\u001b[0;31m                 \u001b[0mresult\u001b[0m \u001b[0;34m=\u001b[0m \u001b[0malt\u001b[0m\u001b[0;34m(\u001b[0m\u001b[0mvalues\u001b[0m\u001b[0;34m,\u001b[0m \u001b[0maxis\u001b[0m\u001b[0;34m=\u001b[0m\u001b[0maxis\u001b[0m\u001b[0;34m,\u001b[0m \u001b[0mskipna\u001b[0m\u001b[0;34m=\u001b[0m\u001b[0mskipna\u001b[0m\u001b[0;34m,\u001b[0m \u001b[0;34m**\u001b[0m\u001b[0mkwds\u001b[0m\u001b[0;34m)\u001b[0m\u001b[0;34m\u001b[0m\u001b[0;34m\u001b[0m\u001b[0m\n\u001b[0m\u001b[1;32m    130\u001b[0m \u001b[0;34m\u001b[0m\u001b[0m\n\u001b[1;32m    131\u001b[0m             \u001b[0;32mreturn\u001b[0m \u001b[0mresult\u001b[0m\u001b[0;34m\u001b[0m\u001b[0;34m\u001b[0m\u001b[0m\n",
            "\u001b[0;32m/anaconda/envs/azureml_py38/lib/python3.8/site-packages/pandas/core/nanops.py\u001b[0m in \u001b[0;36mreduction\u001b[0;34m(values, axis, skipna, mask)\u001b[0m\n\u001b[1;32m    871\u001b[0m                 \u001b[0mresult\u001b[0m \u001b[0;34m=\u001b[0m \u001b[0mnp\u001b[0m\u001b[0;34m.\u001b[0m\u001b[0mnan\u001b[0m\u001b[0;34m\u001b[0m\u001b[0;34m\u001b[0m\u001b[0m\n\u001b[1;32m    872\u001b[0m         \u001b[0;32melse\u001b[0m\u001b[0;34m:\u001b[0m\u001b[0;34m\u001b[0m\u001b[0;34m\u001b[0m\u001b[0m\n\u001b[0;32m--> 873\u001b[0;31m             \u001b[0mresult\u001b[0m \u001b[0;34m=\u001b[0m \u001b[0mgetattr\u001b[0m\u001b[0;34m(\u001b[0m\u001b[0mvalues\u001b[0m\u001b[0;34m,\u001b[0m \u001b[0mmeth\u001b[0m\u001b[0;34m)\u001b[0m\u001b[0;34m(\u001b[0m\u001b[0maxis\u001b[0m\u001b[0;34m)\u001b[0m\u001b[0;34m\u001b[0m\u001b[0;34m\u001b[0m\u001b[0m\n\u001b[0m\u001b[1;32m    874\u001b[0m \u001b[0;34m\u001b[0m\u001b[0m\n\u001b[1;32m    875\u001b[0m         \u001b[0mresult\u001b[0m \u001b[0;34m=\u001b[0m \u001b[0m_wrap_results\u001b[0m\u001b[0;34m(\u001b[0m\u001b[0mresult\u001b[0m\u001b[0;34m,\u001b[0m \u001b[0mdtype\u001b[0m\u001b[0;34m,\u001b[0m \u001b[0mfill_value\u001b[0m\u001b[0;34m)\u001b[0m\u001b[0;34m\u001b[0m\u001b[0;34m\u001b[0m\u001b[0m\n",
            "\u001b[0;32m/anaconda/envs/azureml_py38/lib/python3.8/site-packages/numpy/core/_methods.py\u001b[0m in \u001b[0;36m_amin\u001b[0;34m(a, axis, out, keepdims, initial, where)\u001b[0m\n\u001b[1;32m     42\u001b[0m def _amin(a, axis=None, out=None, keepdims=False,\n\u001b[1;32m     43\u001b[0m           initial=_NoValue, where=True):\n\u001b[0;32m---> 44\u001b[0;31m     \u001b[0;32mreturn\u001b[0m \u001b[0mumr_minimum\u001b[0m\u001b[0;34m(\u001b[0m\u001b[0ma\u001b[0m\u001b[0;34m,\u001b[0m \u001b[0maxis\u001b[0m\u001b[0;34m,\u001b[0m \u001b[0;32mNone\u001b[0m\u001b[0;34m,\u001b[0m \u001b[0mout\u001b[0m\u001b[0;34m,\u001b[0m \u001b[0mkeepdims\u001b[0m\u001b[0;34m,\u001b[0m \u001b[0minitial\u001b[0m\u001b[0;34m,\u001b[0m \u001b[0mwhere\u001b[0m\u001b[0;34m)\u001b[0m\u001b[0;34m\u001b[0m\u001b[0;34m\u001b[0m\u001b[0m\n\u001b[0m\u001b[1;32m     45\u001b[0m \u001b[0;34m\u001b[0m\u001b[0m\n\u001b[1;32m     46\u001b[0m def _sum(a, axis=None, dtype=None, out=None, keepdims=False,\n",
            "\u001b[0;31mValueError\u001b[0m: The truth value of an array with more than one element is ambiguous. Use a.any() or a.all()"
          ]
        }
      ],
      "execution_count": 20,
      "metadata": {
        "jupyter": {
          "source_hidden": false,
          "outputs_hidden": false
        },
        "nteract": {
          "transient": {
            "deleting": false
          }
        },
        "gather": {
          "logged": 1653679177373
        }
      }
    },
    {
      "cell_type": "code",
      "source": [
        "df"
      ],
      "outputs": [
        {
          "output_type": "execute_result",
          "execution_count": 16,
          "data": {
            "text/plain": "                                              Signal\n0  0        [70.0, -56.0, -97.0, -109.0, -55.0, 2...",
            "text/html": "<div>\n<style scoped>\n    .dataframe tbody tr th:only-of-type {\n        vertical-align: middle;\n    }\n\n    .dataframe tbody tr th {\n        vertical-align: top;\n    }\n\n    .dataframe thead th {\n        text-align: right;\n    }\n</style>\n<table border=\"1\" class=\"dataframe\">\n  <thead>\n    <tr style=\"text-align: right;\">\n      <th></th>\n      <th>Signal</th>\n    </tr>\n  </thead>\n  <tbody>\n    <tr>\n      <th>0</th>\n      <td>0        [70.0, -56.0, -97.0, -109.0, -55.0, 2...</td>\n    </tr>\n  </tbody>\n</table>\n</div>"
          },
          "metadata": {}
        }
      ],
      "execution_count": 16,
      "metadata": {
        "jupyter": {
          "source_hidden": false,
          "outputs_hidden": false
        },
        "nteract": {
          "transient": {
            "deleting": false
          }
        },
        "gather": {
          "logged": 1653361670690
        }
      }
    },
    {
      "cell_type": "code",
      "source": [
        "\r\n",
        "# test classification dataset\r\n",
        "from sklearn.datasets import make_classification\r\n",
        "# define dataset\r\n",
        "X, y = make_classification(n_samples=, n_features=20, n_informative=15, n_redundant=5, random_state=3)\r\n",
        "# summarize the dataset\r\n",
        "print(X.shape, y.shape)"
      ],
      "outputs": [],
      "execution_count": null,
      "metadata": {
        "jupyter": {
          "source_hidden": false,
          "outputs_hidden": false
        },
        "nteract": {
          "transient": {
            "deleting": false
          }
        }
      }
    },
    {
      "cell_type": "code",
      "source": [
        "\r\n",
        "# evaluate random forest algorithm for classification\r\n",
        "from numpy import mean\r\n",
        "from numpy import std\r\n",
        "from sklearn.datasets import make_classification\r\n",
        "from sklearn.model_selection import cross_val_score\r\n",
        "from sklearn.model_selection import RepeatedStratifiedKFold\r\n",
        "from sklearn.ensemble import RandomForestClassifier\r\n",
        "# define dataset\r\n",
        "X, y = make_classification(n_samples=1000, n_features=20, n_informative=15, n_redundant=5, random_state=3)\r\n",
        "# define the model\r\n",
        "model = RandomForestClassifier()\r\n",
        "# evaluate the model\r\n",
        "cv = RepeatedStratifiedKFold(n_splits=10, n_repeats=3, random_state=1)\r\n",
        "n_scores = cross_val_score(model, X, y, scoring='accuracy', cv=cv, n_jobs=-1, error_score='raise')\r\n",
        "# report performance\r\n",
        "print('Accuracy: %.3f (%.3f)' % (mean(n_scores), std(n_scores)))"
      ],
      "outputs": [],
      "execution_count": null,
      "metadata": {
        "jupyter": {
          "source_hidden": false,
          "outputs_hidden": false
        },
        "nteract": {
          "transient": {
            "deleting": false
          }
        }
      }
    }
  ],
  "metadata": {
    "kernelspec": {
      "name": "python38-azureml",
      "language": "python",
      "display_name": "Python 3.8 - AzureML"
    },
    "language_info": {
      "name": "python",
      "version": "3.8.5",
      "mimetype": "text/x-python",
      "codemirror_mode": {
        "name": "ipython",
        "version": 3
      },
      "pygments_lexer": "ipython3",
      "nbconvert_exporter": "python",
      "file_extension": ".py"
    },
    "kernel_info": {
      "name": "python38-azureml"
    },
    "microsoft": {
      "host": {
        "AzureML": {
          "notebookHasBeenCompleted": true
        }
      }
    },
    "nteract": {
      "version": "nteract-front-end@1.0.0"
    }
  },
  "nbformat": 4,
  "nbformat_minor": 2
}